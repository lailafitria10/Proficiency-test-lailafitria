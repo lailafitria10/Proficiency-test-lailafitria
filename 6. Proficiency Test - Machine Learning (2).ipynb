{
 "cells": [
  {
   "cell_type": "markdown",
   "metadata": {},
   "source": [
    "## Outline"
   ]
  },
  {
   "cell_type": "markdown",
   "metadata": {},
   "source": [
    "This project uses the CRISP-DM framework. The following is an outline of machine learning on this notebook.\n",
    "1. Data Understanding\n",
    "    * Data Prepocessing\n",
    "        * Load library\n",
    "        * Load data\n",
    "        * Merge all csv\n",
    "        * Add offense name\n",
    "        * Data type correction\n",
    "    * Exploratory Data Analysis\n",
    "        * Missing value checking\n",
    "        * Data distribution checking\n",
    "            * Numerical columns\n",
    "                * statistics descriptive\n",
    "                * histogram and boxplot\n",
    "            * Categorical columns\n",
    "                * univariate plot\n",
    "                * bivariate plot\n",
    "2. Data Preparation\n",
    "    * Missing value handling\n",
    "    * Drop duplicate rows\n",
    "    * Feature selection & feature engineering\n",
    "    * Make dataframe for prediction as question answer\n",
    "    * One hot encoder\n",
    "    * Train test split\n",
    "3. Modeling\n",
    "4. Evaluation\n",
    "5. Predict question data"
   ]
  },
  {
   "cell_type": "markdown",
   "metadata": {},
   "source": [
    "## CRISP-DM : DATA UNDERSTANDING"
   ]
  },
  {
   "cell_type": "markdown",
   "metadata": {},
   "source": [
    "### A. Data Prepocessing"
   ]
  },
  {
   "cell_type": "markdown",
   "metadata": {},
   "source": [
    "#### Load library"
   ]
  },
  {
   "cell_type": "markdown",
   "metadata": {},
   "source": [
    "Load the libraries needed for this data analysis"
   ]
  },
  {
   "cell_type": "code",
   "execution_count": 1,
   "metadata": {},
   "outputs": [],
   "source": [
    "# library\n",
    "import pandas as pd\n",
    "import numpy as np\n",
    "import seaborn as sns\n",
    "import matplotlib.pyplot as plt\n",
    "pd.set_option('display.max_columns', 100)\n",
    "from xgboost.sklearn import XGBRegressor"
   ]
  },
  {
   "cell_type": "markdown",
   "metadata": {},
   "source": [
    "#### Load data"
   ]
  },
  {
   "cell_type": "markdown",
   "metadata": {},
   "source": [
    "The data provided is divided into 3 csv files, namely data crime in 2018, 2019 and 2020."
   ]
  },
  {
   "cell_type": "code",
   "execution_count": 2,
   "metadata": {},
   "outputs": [
    {
     "data": {
      "text/plain": [
       "(98888, 17)"
      ]
     },
     "execution_count": 2,
     "metadata": {},
     "output_type": "execute_result"
    }
   ],
   "source": [
    "df_18 = pd.read_csv('Crime2018.csv')\n",
    "df_18.shape"
   ]
  },
  {
   "cell_type": "code",
   "execution_count": 3,
   "metadata": {},
   "outputs": [
    {
     "data": {
      "text/plain": [
       "(19782, 17)"
      ]
     },
     "execution_count": 3,
     "metadata": {},
     "output_type": "execute_result"
    }
   ],
   "source": [
    "df_19 = pd.read_csv('Crime2019.csv')\n",
    "df_19.shape"
   ]
  },
  {
   "cell_type": "code",
   "execution_count": 4,
   "metadata": {},
   "outputs": [
    {
     "data": {
      "text/plain": [
       "(70894, 17)"
      ]
     },
     "execution_count": 4,
     "metadata": {},
     "output_type": "execute_result"
    }
   ],
   "source": [
    "df_20 = pd.read_csv('Crime2020.csv', dtype={'INCIDENT_NUMBER': object})\n",
    "df_20.shape"
   ]
  },
  {
   "cell_type": "markdown",
   "metadata": {},
   "source": [
    "Combine all the data into one master data crime. After that check the number of rows and columns whether it is correct in the merging process"
   ]
  },
  {
   "cell_type": "markdown",
   "metadata": {},
   "source": [
    "#### Merge all data"
   ]
  },
  {
   "cell_type": "code",
   "execution_count": 5,
   "metadata": {},
   "outputs": [
    {
     "data": {
      "text/plain": [
       "(189564, 17)"
      ]
     },
     "execution_count": 5,
     "metadata": {},
     "output_type": "execute_result"
    }
   ],
   "source": [
    "df = df_18.append(df_19)\n",
    "df = df.append(df_20)\n",
    "df.shape"
   ]
  },
  {
   "cell_type": "code",
   "execution_count": 6,
   "metadata": {},
   "outputs": [
    {
     "data": {
      "text/html": [
       "<div>\n",
       "<style scoped>\n",
       "    .dataframe tbody tr th:only-of-type {\n",
       "        vertical-align: middle;\n",
       "    }\n",
       "\n",
       "    .dataframe tbody tr th {\n",
       "        vertical-align: top;\n",
       "    }\n",
       "\n",
       "    .dataframe thead th {\n",
       "        text-align: right;\n",
       "    }\n",
       "</style>\n",
       "<table border=\"1\" class=\"dataframe\">\n",
       "  <thead>\n",
       "    <tr style=\"text-align: right;\">\n",
       "      <th></th>\n",
       "      <th>INCIDENT_NUMBER</th>\n",
       "      <th>OFFENSE_CODE</th>\n",
       "      <th>OFFENSE_CODE_GROUP</th>\n",
       "      <th>OFFENSE_DESCRIPTION</th>\n",
       "      <th>DISTRICT</th>\n",
       "      <th>REPORTING_AREA</th>\n",
       "      <th>SHOOTING</th>\n",
       "      <th>OCCURRED_ON_DATE</th>\n",
       "      <th>YEAR</th>\n",
       "      <th>MONTH</th>\n",
       "      <th>DAY_OF_WEEK</th>\n",
       "      <th>HOUR</th>\n",
       "      <th>UCR_PART</th>\n",
       "      <th>STREET</th>\n",
       "      <th>Lat</th>\n",
       "      <th>Long</th>\n",
       "      <th>Location</th>\n",
       "    </tr>\n",
       "  </thead>\n",
       "  <tbody>\n",
       "    <tr>\n",
       "      <th>0</th>\n",
       "      <td>I192077559</td>\n",
       "      <td>3115</td>\n",
       "      <td>Investigate Person</td>\n",
       "      <td>INVESTIGATE PERSON</td>\n",
       "      <td>B3</td>\n",
       "      <td>468</td>\n",
       "      <td>NaN</td>\n",
       "      <td>2018-04-30 09:00:00</td>\n",
       "      <td>2018</td>\n",
       "      <td>4</td>\n",
       "      <td>Monday</td>\n",
       "      <td>9</td>\n",
       "      <td>Part Three</td>\n",
       "      <td>HAZLETON ST</td>\n",
       "      <td>42.279971</td>\n",
       "      <td>-71.095534</td>\n",
       "      <td>(42.27997063, -71.09553354)</td>\n",
       "    </tr>\n",
       "    <tr>\n",
       "      <th>1</th>\n",
       "      <td>I192077332</td>\n",
       "      <td>619</td>\n",
       "      <td>Larceny</td>\n",
       "      <td>LARCENY ALL OTHERS</td>\n",
       "      <td>E18</td>\n",
       "      <td>496</td>\n",
       "      <td>NaN</td>\n",
       "      <td>2018-03-06 08:00:00</td>\n",
       "      <td>2018</td>\n",
       "      <td>3</td>\n",
       "      <td>Tuesday</td>\n",
       "      <td>8</td>\n",
       "      <td>Part One</td>\n",
       "      <td>HYDE PARK AVE</td>\n",
       "      <td>42.269224</td>\n",
       "      <td>-71.120853</td>\n",
       "      <td>(42.26922388, -71.12085347)</td>\n",
       "    </tr>\n",
       "    <tr>\n",
       "      <th>2</th>\n",
       "      <td>I192076660</td>\n",
       "      <td>2629</td>\n",
       "      <td>Harassment</td>\n",
       "      <td>HARASSMENT</td>\n",
       "      <td>E5</td>\n",
       "      <td>662</td>\n",
       "      <td>NaN</td>\n",
       "      <td>2018-10-31 12:00:00</td>\n",
       "      <td>2018</td>\n",
       "      <td>10</td>\n",
       "      <td>Wednesday</td>\n",
       "      <td>12</td>\n",
       "      <td>Part Two</td>\n",
       "      <td>PRIMROSE ST</td>\n",
       "      <td>42.290765</td>\n",
       "      <td>-71.130211</td>\n",
       "      <td>(42.29076521, -71.13021098)</td>\n",
       "    </tr>\n",
       "    <tr>\n",
       "      <th>3</th>\n",
       "      <td>I192075386</td>\n",
       "      <td>2629</td>\n",
       "      <td>Harassment</td>\n",
       "      <td>HARASSMENT</td>\n",
       "      <td>A1</td>\n",
       "      <td>96</td>\n",
       "      <td>NaN</td>\n",
       "      <td>2018-04-09 08:43:00</td>\n",
       "      <td>2018</td>\n",
       "      <td>4</td>\n",
       "      <td>Monday</td>\n",
       "      <td>8</td>\n",
       "      <td>Part Two</td>\n",
       "      <td>ATLANTIC AVE</td>\n",
       "      <td>42.355264</td>\n",
       "      <td>-71.050988</td>\n",
       "      <td>(42.35526402, -71.05098788)</td>\n",
       "    </tr>\n",
       "    <tr>\n",
       "      <th>4</th>\n",
       "      <td>I192075335</td>\n",
       "      <td>3208</td>\n",
       "      <td>Property Lost</td>\n",
       "      <td>PROPERTY - MISSING</td>\n",
       "      <td>D4</td>\n",
       "      <td>132</td>\n",
       "      <td>NaN</td>\n",
       "      <td>2018-01-01 00:00:00</td>\n",
       "      <td>2018</td>\n",
       "      <td>1</td>\n",
       "      <td>Monday</td>\n",
       "      <td>0</td>\n",
       "      <td>Part Three</td>\n",
       "      <td>COMMONWEALTH AVE</td>\n",
       "      <td>42.353522</td>\n",
       "      <td>-71.072838</td>\n",
       "      <td>(42.35352153, -71.07283786)</td>\n",
       "    </tr>\n",
       "  </tbody>\n",
       "</table>\n",
       "</div>"
      ],
      "text/plain": [
       "  INCIDENT_NUMBER  OFFENSE_CODE  OFFENSE_CODE_GROUP OFFENSE_DESCRIPTION  \\\n",
       "0      I192077559          3115  Investigate Person  INVESTIGATE PERSON   \n",
       "1      I192077332           619             Larceny  LARCENY ALL OTHERS   \n",
       "2      I192076660          2629          Harassment          HARASSMENT   \n",
       "3      I192075386          2629          Harassment          HARASSMENT   \n",
       "4      I192075335          3208       Property Lost  PROPERTY - MISSING   \n",
       "\n",
       "  DISTRICT REPORTING_AREA SHOOTING     OCCURRED_ON_DATE  YEAR  MONTH  \\\n",
       "0       B3            468      NaN  2018-04-30 09:00:00  2018      4   \n",
       "1      E18            496      NaN  2018-03-06 08:00:00  2018      3   \n",
       "2       E5            662      NaN  2018-10-31 12:00:00  2018     10   \n",
       "3       A1             96      NaN  2018-04-09 08:43:00  2018      4   \n",
       "4       D4            132      NaN  2018-01-01 00:00:00  2018      1   \n",
       "\n",
       "  DAY_OF_WEEK  HOUR    UCR_PART            STREET        Lat       Long  \\\n",
       "0      Monday     9  Part Three       HAZLETON ST  42.279971 -71.095534   \n",
       "1     Tuesday     8    Part One     HYDE PARK AVE  42.269224 -71.120853   \n",
       "2   Wednesday    12    Part Two       PRIMROSE ST  42.290765 -71.130211   \n",
       "3      Monday     8    Part Two      ATLANTIC AVE  42.355264 -71.050988   \n",
       "4      Monday     0  Part Three  COMMONWEALTH AVE  42.353522 -71.072838   \n",
       "\n",
       "                      Location  \n",
       "0  (42.27997063, -71.09553354)  \n",
       "1  (42.26922388, -71.12085347)  \n",
       "2  (42.29076521, -71.13021098)  \n",
       "3  (42.35526402, -71.05098788)  \n",
       "4  (42.35352153, -71.07283786)  "
      ]
     },
     "execution_count": 6,
     "metadata": {},
     "output_type": "execute_result"
    }
   ],
   "source": [
    "df.head()"
   ]
  },
  {
   "cell_type": "markdown",
   "metadata": {},
   "source": [
    "#### Load offense code data"
   ]
  },
  {
   "cell_type": "markdown",
   "metadata": {},
   "source": [
    "In the given zip file, there is also an offense name data, we can add this offense name by combining it with the master data based on the offense code"
   ]
  },
  {
   "cell_type": "code",
   "execution_count": 7,
   "metadata": {},
   "outputs": [
    {
     "data": {
      "text/html": [
       "<div>\n",
       "<style scoped>\n",
       "    .dataframe tbody tr th:only-of-type {\n",
       "        vertical-align: middle;\n",
       "    }\n",
       "\n",
       "    .dataframe tbody tr th {\n",
       "        vertical-align: top;\n",
       "    }\n",
       "\n",
       "    .dataframe thead th {\n",
       "        text-align: right;\n",
       "    }\n",
       "</style>\n",
       "<table border=\"1\" class=\"dataframe\">\n",
       "  <thead>\n",
       "    <tr style=\"text-align: right;\">\n",
       "      <th></th>\n",
       "      <th>OFFENSE_CODE</th>\n",
       "      <th>OFFENSE_NAME</th>\n",
       "    </tr>\n",
       "  </thead>\n",
       "  <tbody>\n",
       "    <tr>\n",
       "      <th>0</th>\n",
       "      <td>612</td>\n",
       "      <td>LARCENY PURSE SNATCH - NO FORCE</td>\n",
       "    </tr>\n",
       "    <tr>\n",
       "      <th>1</th>\n",
       "      <td>613</td>\n",
       "      <td>LARCENY SHOPLIFTING</td>\n",
       "    </tr>\n",
       "    <tr>\n",
       "      <th>2</th>\n",
       "      <td>615</td>\n",
       "      <td>LARCENY THEFT OF MV PARTS &amp; ACCESSORIES</td>\n",
       "    </tr>\n",
       "    <tr>\n",
       "      <th>3</th>\n",
       "      <td>1731</td>\n",
       "      <td>INCEST</td>\n",
       "    </tr>\n",
       "    <tr>\n",
       "      <th>4</th>\n",
       "      <td>3111</td>\n",
       "      <td>LICENSE PREMISE VIOLATION</td>\n",
       "    </tr>\n",
       "  </tbody>\n",
       "</table>\n",
       "</div>"
      ],
      "text/plain": [
       "   OFFENSE_CODE                             OFFENSE_NAME\n",
       "0           612         LARCENY PURSE SNATCH - NO FORCE \n",
       "1           613                      LARCENY SHOPLIFTING\n",
       "2           615  LARCENY THEFT OF MV PARTS & ACCESSORIES\n",
       "3          1731                                   INCEST\n",
       "4          3111                LICENSE PREMISE VIOLATION"
      ]
     },
     "execution_count": 7,
     "metadata": {},
     "output_type": "execute_result"
    }
   ],
   "source": [
    "offense_code = pd.read_excel('OffenseCode.xlsx')\n",
    "offense_code.rename(columns={'CODE':'OFFENSE_CODE','NAME':'OFFENSE_NAME'}, inplace=True)\n",
    "offense_code.head()"
   ]
  },
  {
   "cell_type": "markdown",
   "metadata": {},
   "source": [
    "#### Merge with main data"
   ]
  },
  {
   "cell_type": "code",
   "execution_count": 8,
   "metadata": {},
   "outputs": [
    {
     "name": "stdout",
     "output_type": "stream",
     "text": [
      "shape before merge :  (189564, 17)\n",
      "shape before after :  (189564, 18)\n"
     ]
    }
   ],
   "source": [
    "print('shape before merge : ', df.shape)\n",
    "df = df.merge(offense_code.drop_duplicates(subset =\"OFFENSE_CODE\", keep = 'first'), \n",
    "              on='OFFENSE_CODE',\n",
    "              how='left')\n",
    "print('shape before after : ', df.shape)"
   ]
  },
  {
   "cell_type": "code",
   "execution_count": 9,
   "metadata": {},
   "outputs": [],
   "source": [
    "df.to_csv('df_crime.csv', index=False)"
   ]
  },
  {
   "cell_type": "markdown",
   "metadata": {},
   "source": [
    "#### Data type correction"
   ]
  },
  {
   "cell_type": "markdown",
   "metadata": {},
   "source": [
    "After the master data merging process is complete, we make corrections to the data types that do not match. From df.info() we get the column OFFENSE_CODE, and OCCURRED_ON_DATE needs to be changed data type"
   ]
  },
  {
   "cell_type": "code",
   "execution_count": 10,
   "metadata": {},
   "outputs": [
    {
     "data": {
      "text/html": [
       "<div>\n",
       "<style scoped>\n",
       "    .dataframe tbody tr th:only-of-type {\n",
       "        vertical-align: middle;\n",
       "    }\n",
       "\n",
       "    .dataframe tbody tr th {\n",
       "        vertical-align: top;\n",
       "    }\n",
       "\n",
       "    .dataframe thead th {\n",
       "        text-align: right;\n",
       "    }\n",
       "</style>\n",
       "<table border=\"1\" class=\"dataframe\">\n",
       "  <thead>\n",
       "    <tr style=\"text-align: right;\">\n",
       "      <th></th>\n",
       "      <th>INCIDENT_NUMBER</th>\n",
       "      <th>OFFENSE_CODE</th>\n",
       "      <th>OFFENSE_CODE_GROUP</th>\n",
       "      <th>OFFENSE_DESCRIPTION</th>\n",
       "      <th>DISTRICT</th>\n",
       "      <th>REPORTING_AREA</th>\n",
       "      <th>SHOOTING</th>\n",
       "      <th>OCCURRED_ON_DATE</th>\n",
       "      <th>YEAR</th>\n",
       "      <th>MONTH</th>\n",
       "      <th>DAY_OF_WEEK</th>\n",
       "      <th>HOUR</th>\n",
       "      <th>UCR_PART</th>\n",
       "      <th>STREET</th>\n",
       "      <th>Lat</th>\n",
       "      <th>Long</th>\n",
       "      <th>Location</th>\n",
       "      <th>OFFENSE_NAME</th>\n",
       "    </tr>\n",
       "  </thead>\n",
       "  <tbody>\n",
       "    <tr>\n",
       "      <th>0</th>\n",
       "      <td>I192077559</td>\n",
       "      <td>3115</td>\n",
       "      <td>Investigate Person</td>\n",
       "      <td>INVESTIGATE PERSON</td>\n",
       "      <td>B3</td>\n",
       "      <td>468</td>\n",
       "      <td>NaN</td>\n",
       "      <td>2018-04-30 09:00:00</td>\n",
       "      <td>2018</td>\n",
       "      <td>4</td>\n",
       "      <td>Monday</td>\n",
       "      <td>9</td>\n",
       "      <td>Part Three</td>\n",
       "      <td>HAZLETON ST</td>\n",
       "      <td>42.279971</td>\n",
       "      <td>-71.095534</td>\n",
       "      <td>(42.27997063, -71.09553354)</td>\n",
       "      <td>INVESTIGATE PERSON</td>\n",
       "    </tr>\n",
       "    <tr>\n",
       "      <th>1</th>\n",
       "      <td>I192077332</td>\n",
       "      <td>619</td>\n",
       "      <td>Larceny</td>\n",
       "      <td>LARCENY ALL OTHERS</td>\n",
       "      <td>E18</td>\n",
       "      <td>496</td>\n",
       "      <td>NaN</td>\n",
       "      <td>2018-03-06 08:00:00</td>\n",
       "      <td>2018</td>\n",
       "      <td>3</td>\n",
       "      <td>Tuesday</td>\n",
       "      <td>8</td>\n",
       "      <td>Part One</td>\n",
       "      <td>HYDE PARK AVE</td>\n",
       "      <td>42.269224</td>\n",
       "      <td>-71.120853</td>\n",
       "      <td>(42.26922388, -71.12085347)</td>\n",
       "      <td>LARCENY ALL OTHERS</td>\n",
       "    </tr>\n",
       "    <tr>\n",
       "      <th>2</th>\n",
       "      <td>I192076660</td>\n",
       "      <td>2629</td>\n",
       "      <td>Harassment</td>\n",
       "      <td>HARASSMENT</td>\n",
       "      <td>E5</td>\n",
       "      <td>662</td>\n",
       "      <td>NaN</td>\n",
       "      <td>2018-10-31 12:00:00</td>\n",
       "      <td>2018</td>\n",
       "      <td>10</td>\n",
       "      <td>Wednesday</td>\n",
       "      <td>12</td>\n",
       "      <td>Part Two</td>\n",
       "      <td>PRIMROSE ST</td>\n",
       "      <td>42.290765</td>\n",
       "      <td>-71.130211</td>\n",
       "      <td>(42.29076521, -71.13021098)</td>\n",
       "      <td>HARASSMENT</td>\n",
       "    </tr>\n",
       "    <tr>\n",
       "      <th>3</th>\n",
       "      <td>I192075386</td>\n",
       "      <td>2629</td>\n",
       "      <td>Harassment</td>\n",
       "      <td>HARASSMENT</td>\n",
       "      <td>A1</td>\n",
       "      <td>96</td>\n",
       "      <td>NaN</td>\n",
       "      <td>2018-04-09 08:43:00</td>\n",
       "      <td>2018</td>\n",
       "      <td>4</td>\n",
       "      <td>Monday</td>\n",
       "      <td>8</td>\n",
       "      <td>Part Two</td>\n",
       "      <td>ATLANTIC AVE</td>\n",
       "      <td>42.355264</td>\n",
       "      <td>-71.050988</td>\n",
       "      <td>(42.35526402, -71.05098788)</td>\n",
       "      <td>HARASSMENT</td>\n",
       "    </tr>\n",
       "    <tr>\n",
       "      <th>4</th>\n",
       "      <td>I192075335</td>\n",
       "      <td>3208</td>\n",
       "      <td>Property Lost</td>\n",
       "      <td>PROPERTY - MISSING</td>\n",
       "      <td>D4</td>\n",
       "      <td>132</td>\n",
       "      <td>NaN</td>\n",
       "      <td>2018-01-01 00:00:00</td>\n",
       "      <td>2018</td>\n",
       "      <td>1</td>\n",
       "      <td>Monday</td>\n",
       "      <td>0</td>\n",
       "      <td>Part Three</td>\n",
       "      <td>COMMONWEALTH AVE</td>\n",
       "      <td>42.353522</td>\n",
       "      <td>-71.072838</td>\n",
       "      <td>(42.35352153, -71.07283786)</td>\n",
       "      <td>PROPERTY - MISSING</td>\n",
       "    </tr>\n",
       "  </tbody>\n",
       "</table>\n",
       "</div>"
      ],
      "text/plain": [
       "  INCIDENT_NUMBER  OFFENSE_CODE  OFFENSE_CODE_GROUP OFFENSE_DESCRIPTION  \\\n",
       "0      I192077559          3115  Investigate Person  INVESTIGATE PERSON   \n",
       "1      I192077332           619             Larceny  LARCENY ALL OTHERS   \n",
       "2      I192076660          2629          Harassment          HARASSMENT   \n",
       "3      I192075386          2629          Harassment          HARASSMENT   \n",
       "4      I192075335          3208       Property Lost  PROPERTY - MISSING   \n",
       "\n",
       "  DISTRICT REPORTING_AREA SHOOTING     OCCURRED_ON_DATE  YEAR  MONTH  \\\n",
       "0       B3            468      NaN  2018-04-30 09:00:00  2018      4   \n",
       "1      E18            496      NaN  2018-03-06 08:00:00  2018      3   \n",
       "2       E5            662      NaN  2018-10-31 12:00:00  2018     10   \n",
       "3       A1             96      NaN  2018-04-09 08:43:00  2018      4   \n",
       "4       D4            132      NaN  2018-01-01 00:00:00  2018      1   \n",
       "\n",
       "  DAY_OF_WEEK  HOUR    UCR_PART            STREET        Lat       Long  \\\n",
       "0      Monday     9  Part Three       HAZLETON ST  42.279971 -71.095534   \n",
       "1     Tuesday     8    Part One     HYDE PARK AVE  42.269224 -71.120853   \n",
       "2   Wednesday    12    Part Two       PRIMROSE ST  42.290765 -71.130211   \n",
       "3      Monday     8    Part Two      ATLANTIC AVE  42.355264 -71.050988   \n",
       "4      Monday     0  Part Three  COMMONWEALTH AVE  42.353522 -71.072838   \n",
       "\n",
       "                      Location        OFFENSE_NAME  \n",
       "0  (42.27997063, -71.09553354)  INVESTIGATE PERSON  \n",
       "1  (42.26922388, -71.12085347)  LARCENY ALL OTHERS  \n",
       "2  (42.29076521, -71.13021098)          HARASSMENT  \n",
       "3  (42.35526402, -71.05098788)          HARASSMENT  \n",
       "4  (42.35352153, -71.07283786)  PROPERTY - MISSING  "
      ]
     },
     "metadata": {},
     "output_type": "display_data"
    },
    {
     "name": "stdout",
     "output_type": "stream",
     "text": [
      "<class 'pandas.core.frame.DataFrame'>\n",
      "Int64Index: 189564 entries, 0 to 189563\n",
      "Data columns (total 18 columns):\n",
      " #   Column               Non-Null Count   Dtype  \n",
      "---  ------               --------------   -----  \n",
      " 0   INCIDENT_NUMBER      189564 non-null  object \n",
      " 1   OFFENSE_CODE         189564 non-null  int64  \n",
      " 2   OFFENSE_CODE_GROUP   98888 non-null   object \n",
      " 3   OFFENSE_DESCRIPTION  189564 non-null  object \n",
      " 4   DISTRICT             188527 non-null  object \n",
      " 5   REPORTING_AREA       189564 non-null  object \n",
      " 6   SHOOTING             91078 non-null   object \n",
      " 7   OCCURRED_ON_DATE     189564 non-null  object \n",
      " 8   YEAR                 189564 non-null  int64  \n",
      " 9   MONTH                189564 non-null  int64  \n",
      " 10  DAY_OF_WEEK          189564 non-null  object \n",
      " 11  HOUR                 189564 non-null  int64  \n",
      " 12  UCR_PART             98868 non-null   object \n",
      " 13  STREET               187948 non-null  object \n",
      " 14  Lat                  183135 non-null  float64\n",
      " 15  Long                 183135 non-null  float64\n",
      " 16  Location             189564 non-null  object \n",
      " 17  OFFENSE_NAME         183590 non-null  object \n",
      "dtypes: float64(2), int64(4), object(12)\n",
      "memory usage: 27.5+ MB\n"
     ]
    }
   ],
   "source": [
    "display(df.head())\n",
    "df.info()"
   ]
  },
  {
   "cell_type": "code",
   "execution_count": 11,
   "metadata": {},
   "outputs": [],
   "source": [
    "df['OFFENSE_CODE'] = df['OFFENSE_CODE'].astype(object)\n",
    "df['OCCURRED_ON_DATE'] = pd.to_datetime(df['OCCURRED_ON_DATE'])"
   ]
  },
  {
   "cell_type": "markdown",
   "metadata": {},
   "source": [
    "Furthermore, E.D.A is carried out as a basis for data preparation and also to find hidden insights from data"
   ]
  },
  {
   "cell_type": "markdown",
   "metadata": {},
   "source": [
    "### B. Exploratory Data Analysis (E.D.A)"
   ]
  },
  {
   "cell_type": "markdown",
   "metadata": {},
   "source": [
    "#### 1. Missing value checking"
   ]
  },
  {
   "cell_type": "markdown",
   "metadata": {},
   "source": [
    "First, it is necessary to check the missing value process, this is needed to determine the appropriate action for the imputation process for the missing value. Does it need to be dropped, or does it need to be imputed by what method"
   ]
  },
  {
   "cell_type": "code",
   "execution_count": 12,
   "metadata": {},
   "outputs": [],
   "source": [
    "# define function for checking missing value\n",
    "def check_missing(df):\n",
    "    percent=df.isnull().sum()/df.shape[0]*100\n",
    "    freq=df.isnull().sum()\n",
    "    types=df.dtypes\n",
    "    df_miss=pd.DataFrame({'percentage':percent, 'frequency':freq, 'var_type':types})\n",
    "    df_miss.sort_values(by='frequency',ascending= False, inplace=True)\n",
    "    return df_miss[df_miss['percentage']>0]"
   ]
  },
  {
   "cell_type": "code",
   "execution_count": 13,
   "metadata": {},
   "outputs": [
    {
     "data": {
      "text/html": [
       "<div>\n",
       "<style scoped>\n",
       "    .dataframe tbody tr th:only-of-type {\n",
       "        vertical-align: middle;\n",
       "    }\n",
       "\n",
       "    .dataframe tbody tr th {\n",
       "        vertical-align: top;\n",
       "    }\n",
       "\n",
       "    .dataframe thead th {\n",
       "        text-align: right;\n",
       "    }\n",
       "</style>\n",
       "<table border=\"1\" class=\"dataframe\">\n",
       "  <thead>\n",
       "    <tr style=\"text-align: right;\">\n",
       "      <th></th>\n",
       "      <th>percentage</th>\n",
       "      <th>frequency</th>\n",
       "      <th>var_type</th>\n",
       "    </tr>\n",
       "  </thead>\n",
       "  <tbody>\n",
       "    <tr>\n",
       "      <th>shooting</th>\n",
       "      <td>51.953958</td>\n",
       "      <td>98486</td>\n",
       "      <td>object</td>\n",
       "    </tr>\n",
       "    <tr>\n",
       "      <th>ucr_part</th>\n",
       "      <td>47.844527</td>\n",
       "      <td>90696</td>\n",
       "      <td>object</td>\n",
       "    </tr>\n",
       "    <tr>\n",
       "      <th>offense_code_group</th>\n",
       "      <td>47.833977</td>\n",
       "      <td>90676</td>\n",
       "      <td>object</td>\n",
       "    </tr>\n",
       "    <tr>\n",
       "      <th>long</th>\n",
       "      <td>3.391467</td>\n",
       "      <td>6429</td>\n",
       "      <td>float64</td>\n",
       "    </tr>\n",
       "    <tr>\n",
       "      <th>lat</th>\n",
       "      <td>3.391467</td>\n",
       "      <td>6429</td>\n",
       "      <td>float64</td>\n",
       "    </tr>\n",
       "    <tr>\n",
       "      <th>offense_name</th>\n",
       "      <td>3.151442</td>\n",
       "      <td>5974</td>\n",
       "      <td>object</td>\n",
       "    </tr>\n",
       "    <tr>\n",
       "      <th>street</th>\n",
       "      <td>0.852483</td>\n",
       "      <td>1616</td>\n",
       "      <td>object</td>\n",
       "    </tr>\n",
       "    <tr>\n",
       "      <th>district</th>\n",
       "      <td>0.547045</td>\n",
       "      <td>1037</td>\n",
       "      <td>object</td>\n",
       "    </tr>\n",
       "  </tbody>\n",
       "</table>\n",
       "</div>"
      ],
      "text/plain": [
       "                    percentage  frequency var_type\n",
       "shooting             51.953958      98486   object\n",
       "ucr_part             47.844527      90696   object\n",
       "offense_code_group   47.833977      90676   object\n",
       "long                  3.391467       6429  float64\n",
       "lat                   3.391467       6429  float64\n",
       "offense_name          3.151442       5974   object\n",
       "street                0.852483       1616   object\n",
       "district              0.547045       1037   object"
      ]
     },
     "execution_count": 13,
     "metadata": {},
     "output_type": "execute_result"
    }
   ],
   "source": [
    "df.columns = [x.lower() for x in df.columns]\n",
    "check_missing(df)"
   ]
  },
  {
   "cell_type": "markdown",
   "metadata": {},
   "source": [
    "\"shooting\" has a value of 1 & 0, because there is a missing value, it is assumed that the missing is not shooting, meaning that the missing value d is changed to \"0\"\n",
    "\n",
    "ucr_part, offense_code_group, offense_name, street and district missing values will be replaced with \"Other\"\n",
    "\n",
    "while long and lat will be dropped because they are not needed for modeling\n",
    "\n",
    "The execution of the explanation will be carried out in the \"Data Preparation\" step"
   ]
  },
  {
   "cell_type": "markdown",
   "metadata": {},
   "source": [
    "#### 2. Checking Data Distribution"
   ]
  },
  {
   "cell_type": "markdown",
   "metadata": {},
   "source": [
    "First, check the distribution of numerical data, using\n",
    "1. descriptive statistics\n",
    "2. distribution of data using histograms and outliers"
   ]
  },
  {
   "cell_type": "markdown",
   "metadata": {},
   "source": [
    "#### a. Numerical columns"
   ]
  },
  {
   "cell_type": "code",
   "execution_count": 14,
   "metadata": {},
   "outputs": [
    {
     "data": {
      "text/html": [
       "<div>\n",
       "<style scoped>\n",
       "    .dataframe tbody tr th:only-of-type {\n",
       "        vertical-align: middle;\n",
       "    }\n",
       "\n",
       "    .dataframe tbody tr th {\n",
       "        vertical-align: top;\n",
       "    }\n",
       "\n",
       "    .dataframe thead th {\n",
       "        text-align: right;\n",
       "    }\n",
       "</style>\n",
       "<table border=\"1\" class=\"dataframe\">\n",
       "  <thead>\n",
       "    <tr style=\"text-align: right;\">\n",
       "      <th></th>\n",
       "      <th>incident_number</th>\n",
       "      <th>offense_code</th>\n",
       "      <th>offense_code_group</th>\n",
       "      <th>offense_description</th>\n",
       "      <th>district</th>\n",
       "      <th>reporting_area</th>\n",
       "      <th>shooting</th>\n",
       "      <th>occurred_on_date</th>\n",
       "      <th>year</th>\n",
       "      <th>month</th>\n",
       "      <th>day_of_week</th>\n",
       "      <th>hour</th>\n",
       "      <th>ucr_part</th>\n",
       "      <th>street</th>\n",
       "      <th>lat</th>\n",
       "      <th>long</th>\n",
       "      <th>location</th>\n",
       "      <th>offense_name</th>\n",
       "    </tr>\n",
       "  </thead>\n",
       "  <tbody>\n",
       "    <tr>\n",
       "      <th>0</th>\n",
       "      <td>I192077559</td>\n",
       "      <td>3115</td>\n",
       "      <td>Investigate Person</td>\n",
       "      <td>INVESTIGATE PERSON</td>\n",
       "      <td>B3</td>\n",
       "      <td>468</td>\n",
       "      <td>NaN</td>\n",
       "      <td>2018-04-30 09:00:00</td>\n",
       "      <td>2018</td>\n",
       "      <td>4</td>\n",
       "      <td>Monday</td>\n",
       "      <td>9</td>\n",
       "      <td>Part Three</td>\n",
       "      <td>HAZLETON ST</td>\n",
       "      <td>42.279971</td>\n",
       "      <td>-71.095534</td>\n",
       "      <td>(42.27997063, -71.09553354)</td>\n",
       "      <td>INVESTIGATE PERSON</td>\n",
       "    </tr>\n",
       "    <tr>\n",
       "      <th>1</th>\n",
       "      <td>I192077332</td>\n",
       "      <td>619</td>\n",
       "      <td>Larceny</td>\n",
       "      <td>LARCENY ALL OTHERS</td>\n",
       "      <td>E18</td>\n",
       "      <td>496</td>\n",
       "      <td>NaN</td>\n",
       "      <td>2018-03-06 08:00:00</td>\n",
       "      <td>2018</td>\n",
       "      <td>3</td>\n",
       "      <td>Tuesday</td>\n",
       "      <td>8</td>\n",
       "      <td>Part One</td>\n",
       "      <td>HYDE PARK AVE</td>\n",
       "      <td>42.269224</td>\n",
       "      <td>-71.120853</td>\n",
       "      <td>(42.26922388, -71.12085347)</td>\n",
       "      <td>LARCENY ALL OTHERS</td>\n",
       "    </tr>\n",
       "    <tr>\n",
       "      <th>2</th>\n",
       "      <td>I192076660</td>\n",
       "      <td>2629</td>\n",
       "      <td>Harassment</td>\n",
       "      <td>HARASSMENT</td>\n",
       "      <td>E5</td>\n",
       "      <td>662</td>\n",
       "      <td>NaN</td>\n",
       "      <td>2018-10-31 12:00:00</td>\n",
       "      <td>2018</td>\n",
       "      <td>10</td>\n",
       "      <td>Wednesday</td>\n",
       "      <td>12</td>\n",
       "      <td>Part Two</td>\n",
       "      <td>PRIMROSE ST</td>\n",
       "      <td>42.290765</td>\n",
       "      <td>-71.130211</td>\n",
       "      <td>(42.29076521, -71.13021098)</td>\n",
       "      <td>HARASSMENT</td>\n",
       "    </tr>\n",
       "    <tr>\n",
       "      <th>3</th>\n",
       "      <td>I192075386</td>\n",
       "      <td>2629</td>\n",
       "      <td>Harassment</td>\n",
       "      <td>HARASSMENT</td>\n",
       "      <td>A1</td>\n",
       "      <td>96</td>\n",
       "      <td>NaN</td>\n",
       "      <td>2018-04-09 08:43:00</td>\n",
       "      <td>2018</td>\n",
       "      <td>4</td>\n",
       "      <td>Monday</td>\n",
       "      <td>8</td>\n",
       "      <td>Part Two</td>\n",
       "      <td>ATLANTIC AVE</td>\n",
       "      <td>42.355264</td>\n",
       "      <td>-71.050988</td>\n",
       "      <td>(42.35526402, -71.05098788)</td>\n",
       "      <td>HARASSMENT</td>\n",
       "    </tr>\n",
       "    <tr>\n",
       "      <th>4</th>\n",
       "      <td>I192075335</td>\n",
       "      <td>3208</td>\n",
       "      <td>Property Lost</td>\n",
       "      <td>PROPERTY - MISSING</td>\n",
       "      <td>D4</td>\n",
       "      <td>132</td>\n",
       "      <td>NaN</td>\n",
       "      <td>2018-01-01 00:00:00</td>\n",
       "      <td>2018</td>\n",
       "      <td>1</td>\n",
       "      <td>Monday</td>\n",
       "      <td>0</td>\n",
       "      <td>Part Three</td>\n",
       "      <td>COMMONWEALTH AVE</td>\n",
       "      <td>42.353522</td>\n",
       "      <td>-71.072838</td>\n",
       "      <td>(42.35352153, -71.07283786)</td>\n",
       "      <td>PROPERTY - MISSING</td>\n",
       "    </tr>\n",
       "  </tbody>\n",
       "</table>\n",
       "</div>"
      ],
      "text/plain": [
       "  incident_number offense_code  offense_code_group offense_description  \\\n",
       "0      I192077559         3115  Investigate Person  INVESTIGATE PERSON   \n",
       "1      I192077332          619             Larceny  LARCENY ALL OTHERS   \n",
       "2      I192076660         2629          Harassment          HARASSMENT   \n",
       "3      I192075386         2629          Harassment          HARASSMENT   \n",
       "4      I192075335         3208       Property Lost  PROPERTY - MISSING   \n",
       "\n",
       "  district reporting_area shooting    occurred_on_date  year  month  \\\n",
       "0       B3            468      NaN 2018-04-30 09:00:00  2018      4   \n",
       "1      E18            496      NaN 2018-03-06 08:00:00  2018      3   \n",
       "2       E5            662      NaN 2018-10-31 12:00:00  2018     10   \n",
       "3       A1             96      NaN 2018-04-09 08:43:00  2018      4   \n",
       "4       D4            132      NaN 2018-01-01 00:00:00  2018      1   \n",
       "\n",
       "  day_of_week  hour    ucr_part            street        lat       long  \\\n",
       "0      Monday     9  Part Three       HAZLETON ST  42.279971 -71.095534   \n",
       "1     Tuesday     8    Part One     HYDE PARK AVE  42.269224 -71.120853   \n",
       "2   Wednesday    12    Part Two       PRIMROSE ST  42.290765 -71.130211   \n",
       "3      Monday     8    Part Two      ATLANTIC AVE  42.355264 -71.050988   \n",
       "4      Monday     0  Part Three  COMMONWEALTH AVE  42.353522 -71.072838   \n",
       "\n",
       "                      location        offense_name  \n",
       "0  (42.27997063, -71.09553354)  INVESTIGATE PERSON  \n",
       "1  (42.26922388, -71.12085347)  LARCENY ALL OTHERS  \n",
       "2  (42.29076521, -71.13021098)          HARASSMENT  \n",
       "3  (42.35526402, -71.05098788)          HARASSMENT  \n",
       "4  (42.35352153, -71.07283786)  PROPERTY - MISSING  "
      ]
     },
     "execution_count": 14,
     "metadata": {},
     "output_type": "execute_result"
    }
   ],
   "source": [
    "df.head()"
   ]
  },
  {
   "cell_type": "markdown",
   "metadata": {},
   "source": [
    "#### Statistics of all columns"
   ]
  },
  {
   "cell_type": "code",
   "execution_count": 15,
   "metadata": {},
   "outputs": [
    {
     "data": {
      "text/html": [
       "<div>\n",
       "<style scoped>\n",
       "    .dataframe tbody tr th:only-of-type {\n",
       "        vertical-align: middle;\n",
       "    }\n",
       "\n",
       "    .dataframe tbody tr th {\n",
       "        vertical-align: top;\n",
       "    }\n",
       "\n",
       "    .dataframe thead th {\n",
       "        text-align: right;\n",
       "    }\n",
       "</style>\n",
       "<table border=\"1\" class=\"dataframe\">\n",
       "  <thead>\n",
       "    <tr style=\"text-align: right;\">\n",
       "      <th></th>\n",
       "      <th>year</th>\n",
       "      <th>month</th>\n",
       "      <th>hour</th>\n",
       "      <th>lat</th>\n",
       "      <th>long</th>\n",
       "    </tr>\n",
       "  </thead>\n",
       "  <tbody>\n",
       "    <tr>\n",
       "      <th>count</th>\n",
       "      <td>189564.000000</td>\n",
       "      <td>189564.000000</td>\n",
       "      <td>189564.000000</td>\n",
       "      <td>183135.000000</td>\n",
       "      <td>1.831350e+05</td>\n",
       "    </tr>\n",
       "    <tr>\n",
       "      <th>mean</th>\n",
       "      <td>2018.852324</td>\n",
       "      <td>7.022757</td>\n",
       "      <td>12.928557</td>\n",
       "      <td>41.759070</td>\n",
       "      <td>-7.014292e+01</td>\n",
       "    </tr>\n",
       "    <tr>\n",
       "      <th>std</th>\n",
       "      <td>0.934795</td>\n",
       "      <td>3.488644</td>\n",
       "      <td>6.359623</td>\n",
       "      <td>4.856312</td>\n",
       "      <td>8.115174e+00</td>\n",
       "    </tr>\n",
       "    <tr>\n",
       "      <th>min</th>\n",
       "      <td>2018.000000</td>\n",
       "      <td>1.000000</td>\n",
       "      <td>0.000000</td>\n",
       "      <td>-1.000000</td>\n",
       "      <td>-7.117867e+01</td>\n",
       "    </tr>\n",
       "    <tr>\n",
       "      <th>25%</th>\n",
       "      <td>2018.000000</td>\n",
       "      <td>4.000000</td>\n",
       "      <td>9.000000</td>\n",
       "      <td>42.296042</td>\n",
       "      <td>-7.109780e+01</td>\n",
       "    </tr>\n",
       "    <tr>\n",
       "      <th>50%</th>\n",
       "      <td>2018.000000</td>\n",
       "      <td>7.000000</td>\n",
       "      <td>14.000000</td>\n",
       "      <td>42.325559</td>\n",
       "      <td>-7.107732e+01</td>\n",
       "    </tr>\n",
       "    <tr>\n",
       "      <th>75%</th>\n",
       "      <td>2020.000000</td>\n",
       "      <td>10.000000</td>\n",
       "      <td>18.000000</td>\n",
       "      <td>42.348132</td>\n",
       "      <td>-7.106134e+01</td>\n",
       "    </tr>\n",
       "    <tr>\n",
       "      <th>max</th>\n",
       "      <td>2020.000000</td>\n",
       "      <td>12.000000</td>\n",
       "      <td>23.000000</td>\n",
       "      <td>42.395042</td>\n",
       "      <td>5.249691e-08</td>\n",
       "    </tr>\n",
       "  </tbody>\n",
       "</table>\n",
       "</div>"
      ],
      "text/plain": [
       "                year          month           hour            lat  \\\n",
       "count  189564.000000  189564.000000  189564.000000  183135.000000   \n",
       "mean     2018.852324       7.022757      12.928557      41.759070   \n",
       "std         0.934795       3.488644       6.359623       4.856312   \n",
       "min      2018.000000       1.000000       0.000000      -1.000000   \n",
       "25%      2018.000000       4.000000       9.000000      42.296042   \n",
       "50%      2018.000000       7.000000      14.000000      42.325559   \n",
       "75%      2020.000000      10.000000      18.000000      42.348132   \n",
       "max      2020.000000      12.000000      23.000000      42.395042   \n",
       "\n",
       "               long  \n",
       "count  1.831350e+05  \n",
       "mean  -7.014292e+01  \n",
       "std    8.115174e+00  \n",
       "min   -7.117867e+01  \n",
       "25%   -7.109780e+01  \n",
       "50%   -7.107732e+01  \n",
       "75%   -7.106134e+01  \n",
       "max    5.249691e-08  "
      ]
     },
     "execution_count": 15,
     "metadata": {},
     "output_type": "execute_result"
    }
   ],
   "source": [
    "# check the central tendency of data\n",
    "df.describe()"
   ]
  },
  {
   "cell_type": "markdown",
   "metadata": {},
   "source": [
    "Let's focus on the hour column because that's what we want to predict\n",
    "\n",
    "The average crime occurs at 12-14 PM\n",
    "\n",
    "The mean and median are not much different, indicating that the data has a normal distribution. But this is still an initial assumption, we need to check using histogram and boxplot"
   ]
  },
  {
   "cell_type": "markdown",
   "metadata": {},
   "source": [
    "#### Target variable distribution"
   ]
  },
  {
   "cell_type": "code",
   "execution_count": 16,
   "metadata": {},
   "outputs": [
    {
     "data": {
      "text/plain": [
       "Text(0.5, 1.0, 'Hour Distribution')"
      ]
     },
     "execution_count": 16,
     "metadata": {},
     "output_type": "execute_result"
    },
    {
     "data": {
      "image/png": "[encoded data removed]",
      "text/plain": [
       "<Figure size 432x288 with 1 Axes>"
      ]
     },
     "metadata": {
      "needs_background": "light"
     },
     "output_type": "display_data"
    }
   ],
   "source": [
    "# lets see the distribution of hour using histogram\n",
    "sns.distplot(df['hour']).set_title('Hour Distribution')"
   ]
  },
  {
   "cell_type": "markdown",
   "metadata": {},
   "source": [
    "It turns out that the hour data has a bimode distribution, where there are two data centers, namely at 00.00 AM and 12-14 PM. This means that crime is prone to occur at that hour."
   ]
  },
  {
   "cell_type": "code",
   "execution_count": 17,
   "metadata": {},
   "outputs": [
    {
     "data": {
      "text/plain": [
       "Text(0.5, 1.0, 'Hour Distribution')"
      ]
     },
     "execution_count": 17,
     "metadata": {},
     "output_type": "execute_result"
    },
    {
     "data": {
      "image/png": "[encoded data removed]",
      "text/plain": [
       "<Figure size 432x288 with 1 Axes>"
      ]
     },
     "metadata": {
      "needs_background": "light"
     },
     "output_type": "display_data"
    }
   ],
   "source": [
    "# lets see the distribution of EPL team using histogram\n",
    "sns.boxplot(df['hour']).set_title('Hour Distribution')"
   ]
  },
  {
   "cell_type": "markdown",
   "metadata": {},
   "source": [
    "From the boxplot, it can be seen that there is no indication of anomalous events, because there are no outliers"
   ]
  },
  {
   "cell_type": "markdown",
   "metadata": {},
   "source": [
    "#### b. Categorical columns"
   ]
  },
  {
   "cell_type": "markdown",
   "metadata": {},
   "source": [
    "Next, let's examine the distribution of categorical data"
   ]
  },
  {
   "cell_type": "code",
   "execution_count": 18,
   "metadata": {},
   "outputs": [
    {
     "data": {
      "text/html": [
       "<div>\n",
       "<style scoped>\n",
       "    .dataframe tbody tr th:only-of-type {\n",
       "        vertical-align: middle;\n",
       "    }\n",
       "\n",
       "    .dataframe tbody tr th {\n",
       "        vertical-align: top;\n",
       "    }\n",
       "\n",
       "    .dataframe thead th {\n",
       "        text-align: right;\n",
       "    }\n",
       "</style>\n",
       "<table border=\"1\" class=\"dataframe\">\n",
       "  <thead>\n",
       "    <tr style=\"text-align: right;\">\n",
       "      <th></th>\n",
       "      <th>incident_number</th>\n",
       "      <th>offense_code</th>\n",
       "      <th>offense_code_group</th>\n",
       "      <th>offense_description</th>\n",
       "      <th>district</th>\n",
       "      <th>reporting_area</th>\n",
       "      <th>shooting</th>\n",
       "      <th>occurred_on_date</th>\n",
       "      <th>year</th>\n",
       "      <th>month</th>\n",
       "      <th>day_of_week</th>\n",
       "      <th>hour</th>\n",
       "      <th>ucr_part</th>\n",
       "      <th>street</th>\n",
       "      <th>lat</th>\n",
       "      <th>long</th>\n",
       "      <th>location</th>\n",
       "      <th>offense_name</th>\n",
       "    </tr>\n",
       "  </thead>\n",
       "  <tbody>\n",
       "    <tr>\n",
       "      <th>0</th>\n",
       "      <td>I192077559</td>\n",
       "      <td>3115</td>\n",
       "      <td>Investigate Person</td>\n",
       "      <td>INVESTIGATE PERSON</td>\n",
       "      <td>B3</td>\n",
       "      <td>468</td>\n",
       "      <td>NaN</td>\n",
       "      <td>2018-04-30 09:00:00</td>\n",
       "      <td>2018</td>\n",
       "      <td>4</td>\n",
       "      <td>Monday</td>\n",
       "      <td>9</td>\n",
       "      <td>Part Three</td>\n",
       "      <td>HAZLETON ST</td>\n",
       "      <td>42.279971</td>\n",
       "      <td>-71.095534</td>\n",
       "      <td>(42.27997063, -71.09553354)</td>\n",
       "      <td>INVESTIGATE PERSON</td>\n",
       "    </tr>\n",
       "    <tr>\n",
       "      <th>1</th>\n",
       "      <td>I192077332</td>\n",
       "      <td>619</td>\n",
       "      <td>Larceny</td>\n",
       "      <td>LARCENY ALL OTHERS</td>\n",
       "      <td>E18</td>\n",
       "      <td>496</td>\n",
       "      <td>NaN</td>\n",
       "      <td>2018-03-06 08:00:00</td>\n",
       "      <td>2018</td>\n",
       "      <td>3</td>\n",
       "      <td>Tuesday</td>\n",
       "      <td>8</td>\n",
       "      <td>Part One</td>\n",
       "      <td>HYDE PARK AVE</td>\n",
       "      <td>42.269224</td>\n",
       "      <td>-71.120853</td>\n",
       "      <td>(42.26922388, -71.12085347)</td>\n",
       "      <td>LARCENY ALL OTHERS</td>\n",
       "    </tr>\n",
       "    <tr>\n",
       "      <th>2</th>\n",
       "      <td>I192076660</td>\n",
       "      <td>2629</td>\n",
       "      <td>Harassment</td>\n",
       "      <td>HARASSMENT</td>\n",
       "      <td>E5</td>\n",
       "      <td>662</td>\n",
       "      <td>NaN</td>\n",
       "      <td>2018-10-31 12:00:00</td>\n",
       "      <td>2018</td>\n",
       "      <td>10</td>\n",
       "      <td>Wednesday</td>\n",
       "      <td>12</td>\n",
       "      <td>Part Two</td>\n",
       "      <td>PRIMROSE ST</td>\n",
       "      <td>42.290765</td>\n",
       "      <td>-71.130211</td>\n",
       "      <td>(42.29076521, -71.13021098)</td>\n",
       "      <td>HARASSMENT</td>\n",
       "    </tr>\n",
       "    <tr>\n",
       "      <th>3</th>\n",
       "      <td>I192075386</td>\n",
       "      <td>2629</td>\n",
       "      <td>Harassment</td>\n",
       "      <td>HARASSMENT</td>\n",
       "      <td>A1</td>\n",
       "      <td>96</td>\n",
       "      <td>NaN</td>\n",
       "      <td>2018-04-09 08:43:00</td>\n",
       "      <td>2018</td>\n",
       "      <td>4</td>\n",
       "      <td>Monday</td>\n",
       "      <td>8</td>\n",
       "      <td>Part Two</td>\n",
       "      <td>ATLANTIC AVE</td>\n",
       "      <td>42.355264</td>\n",
       "      <td>-71.050988</td>\n",
       "      <td>(42.35526402, -71.05098788)</td>\n",
       "      <td>HARASSMENT</td>\n",
       "    </tr>\n",
       "    <tr>\n",
       "      <th>4</th>\n",
       "      <td>I192075335</td>\n",
       "      <td>3208</td>\n",
       "      <td>Property Lost</td>\n",
       "      <td>PROPERTY - MISSING</td>\n",
       "      <td>D4</td>\n",
       "      <td>132</td>\n",
       "      <td>NaN</td>\n",
       "      <td>2018-01-01 00:00:00</td>\n",
       "      <td>2018</td>\n",
       "      <td>1</td>\n",
       "      <td>Monday</td>\n",
       "      <td>0</td>\n",
       "      <td>Part Three</td>\n",
       "      <td>COMMONWEALTH AVE</td>\n",
       "      <td>42.353522</td>\n",
       "      <td>-71.072838</td>\n",
       "      <td>(42.35352153, -71.07283786)</td>\n",
       "      <td>PROPERTY - MISSING</td>\n",
       "    </tr>\n",
       "  </tbody>\n",
       "</table>\n",
       "</div>"
      ],
      "text/plain": [
       "  incident_number offense_code  offense_code_group offense_description  \\\n",
       "0      I192077559         3115  Investigate Person  INVESTIGATE PERSON   \n",
       "1      I192077332          619             Larceny  LARCENY ALL OTHERS   \n",
       "2      I192076660         2629          Harassment          HARASSMENT   \n",
       "3      I192075386         2629          Harassment          HARASSMENT   \n",
       "4      I192075335         3208       Property Lost  PROPERTY - MISSING   \n",
       "\n",
       "  district reporting_area shooting    occurred_on_date  year  month  \\\n",
       "0       B3            468      NaN 2018-04-30 09:00:00  2018      4   \n",
       "1      E18            496      NaN 2018-03-06 08:00:00  2018      3   \n",
       "2       E5            662      NaN 2018-10-31 12:00:00  2018     10   \n",
       "3       A1             96      NaN 2018-04-09 08:43:00  2018      4   \n",
       "4       D4            132      NaN 2018-01-01 00:00:00  2018      1   \n",
       "\n",
       "  day_of_week  hour    ucr_part            street        lat       long  \\\n",
       "0      Monday     9  Part Three       HAZLETON ST  42.279971 -71.095534   \n",
       "1     Tuesday     8    Part One     HYDE PARK AVE  42.269224 -71.120853   \n",
       "2   Wednesday    12    Part Two       PRIMROSE ST  42.290765 -71.130211   \n",
       "3      Monday     8    Part Two      ATLANTIC AVE  42.355264 -71.050988   \n",
       "4      Monday     0  Part Three  COMMONWEALTH AVE  42.353522 -71.072838   \n",
       "\n",
       "                      location        offense_name  \n",
       "0  (42.27997063, -71.09553354)  INVESTIGATE PERSON  \n",
       "1  (42.26922388, -71.12085347)  LARCENY ALL OTHERS  \n",
       "2  (42.29076521, -71.13021098)          HARASSMENT  \n",
       "3  (42.35526402, -71.05098788)          HARASSMENT  \n",
       "4  (42.35352153, -71.07283786)  PROPERTY - MISSING  "
      ]
     },
     "execution_count": 18,
     "metadata": {},
     "output_type": "execute_result"
    }
   ],
   "source": [
    "df.head()"
   ]
  },
  {
   "cell_type": "markdown",
   "metadata": {},
   "source": [
    "#### Unique count values"
   ]
  },
  {
   "cell_type": "code",
   "execution_count": 19,
   "metadata": {},
   "outputs": [
    {
     "name": "stdout",
     "output_type": "stream",
     "text": [
      "number unique value of offense_name ==> 185\n",
      "number unique value of offense_code_group ==> 61\n",
      "number unique value of district ==> 13\n",
      "number unique value of shooting ==> 3\n",
      "number unique value of year ==> 3\n",
      "number unique value of month ==> 12\n",
      "number unique value of day_of_week ==> 7\n",
      "number unique value of hour ==> 24\n",
      "number unique value of street ==> 10230\n"
     ]
    }
   ],
   "source": [
    "import math\n",
    "categorical_feature = ['offense_name','offense_code_group','district','shooting','year','month','day_of_week','hour','street']\n",
    "\n",
    "for col in categorical_feature:\n",
    "    print('number unique value of',col,'==>', df[col].nunique())"
   ]
  },
  {
   "cell_type": "markdown",
   "metadata": {},
   "source": [
    "offense_name and street have a lot of unique values, for now we have not used these columns, because they have the potential to cause too many columns after the one hot encoder process, resulting in a potential curse of dimensionality."
   ]
  },
  {
   "cell_type": "markdown",
   "metadata": {},
   "source": [
    "#### Top 20 Offense Group"
   ]
  },
  {
   "cell_type": "code",
   "execution_count": 20,
   "metadata": {},
   "outputs": [
    {
     "data": {
      "text/plain": [
       "<AxesSubplot:>"
      ]
     },
     "execution_count": 20,
     "metadata": {},
     "output_type": "execute_result"
    },
    {
     "data": {
      "image/png": "[encoded data removed]",
      "text/plain": [
       "<Figure size 432x288 with 1 Axes>"
      ]
     },
     "metadata": {
      "needs_background": "light"
     },
     "output_type": "display_data"
    }
   ],
   "source": [
    "temp = df.offense_code_group.value_counts()\n",
    "temp2 = temp.head(20)\n",
    "temp2.plot(kind='barh')"
   ]
  },
  {
   "cell_type": "markdown",
   "metadata": {},
   "source": [
    "Common types of cases include:\n",
    "1. motorcycle vechicle accident\n",
    "2. medical assistance\n",
    "3. larceny\n",
    "4. drug violation\n",
    "5. etc\n",
    "If it is concluded that the large category is related to the health sector and criminal violence.\n",
    "\n",
    "For details on the names of cases that often occur, see the top 20 offense names chart"
   ]
  },
  {
   "cell_type": "markdown",
   "metadata": {},
   "source": [
    "#### Top 20 Offense Name"
   ]
  },
  {
   "cell_type": "code",
   "execution_count": 21,
   "metadata": {},
   "outputs": [
    {
     "data": {
      "text/plain": [
       "<AxesSubplot:>"
      ]
     },
     "execution_count": 21,
     "metadata": {},
     "output_type": "execute_result"
    },
    {
     "data": {
      "image/png": "[encoded data removed]",
      "text/plain": [
       "<Figure size 432x288 with 1 Axes>"
      ]
     },
     "metadata": {
      "needs_background": "light"
     },
     "output_type": "display_data"
    }
   ],
   "source": [
    "temp = df.offense_name.value_counts()\n",
    "temp2 = temp.head(20)\n",
    "temp2.plot(kind='barh')"
   ]
  },
  {
   "cell_type": "markdown",
   "metadata": {},
   "source": [
    "#### Number of event across district"
   ]
  },
  {
   "cell_type": "code",
   "execution_count": 22,
   "metadata": {},
   "outputs": [
    {
     "data": {
      "text/plain": [
       "<AxesSubplot:>"
      ]
     },
     "execution_count": 22,
     "metadata": {},
     "output_type": "execute_result"
    },
    {
     "data": {
      "image/png": "[encoded data removed]",
      "text/plain": [
       "<Figure size 432x288 with 1 Axes>"
      ]
     },
     "metadata": {
      "needs_background": "light"
     },
     "output_type": "display_data"
    }
   ],
   "source": [
    "temp = df.district.value_counts()\n",
    "temp2 = temp.head(20)\n",
    "temp2.plot(kind='bar')"
   ]
  },
  {
   "cell_type": "markdown",
   "metadata": {},
   "source": [
    "In terms of area, the most crimes occurred in the B2 district, while the least was in the external district"
   ]
  },
  {
   "cell_type": "markdown",
   "metadata": {},
   "source": [
    "#### Shooting"
   ]
  },
  {
   "cell_type": "code",
   "execution_count": 23,
   "metadata": {},
   "outputs": [
    {
     "data": {
      "text/plain": [
       "<AxesSubplot:>"
      ]
     },
     "execution_count": 23,
     "metadata": {},
     "output_type": "execute_result"
    },
    {
     "data": {
      "image/png": "[encoded data removed]",
      "text/plain": [
       "<Figure size 432x288 with 1 Axes>"
      ]
     },
     "metadata": {
      "needs_background": "light"
     },
     "output_type": "display_data"
    }
   ],
   "source": [
    "temp = df.shooting.value_counts()\n",
    "temp2 = temp.head(20)\n",
    "temp2.plot(kind='bar')"
   ]
  },
  {
   "cell_type": "markdown",
   "metadata": {},
   "source": [
    "From the data we have, shooting cases are rare.\n",
    "\n",
    "It can be seen that there are categories Y and 1, these are actually the same. So it needs to be corrected during data preparation"
   ]
  },
  {
   "cell_type": "markdown",
   "metadata": {},
   "source": [
    "#### Yearly Crime"
   ]
  },
  {
   "cell_type": "code",
   "execution_count": 24,
   "metadata": {},
   "outputs": [
    {
     "data": {
      "text/plain": [
       "<AxesSubplot:xlabel='index'>"
      ]
     },
     "execution_count": 24,
     "metadata": {},
     "output_type": "execute_result"
    },
    {
     "data": {
      "image/png": "[encoded data removed]",
      "text/plain": [
       "<Figure size 432x288 with 1 Axes>"
      ]
     },
     "metadata": {
      "needs_background": "light"
     },
     "output_type": "display_data"
    }
   ],
   "source": [
    "temp = df.year.value_counts()\n",
    "temp.reset_index().sort_values(by='index').set_index('index').plot(kind='bar')"
   ]
  },
  {
   "cell_type": "markdown",
   "metadata": {},
   "source": [
    "In 2018 the crime rate was the highest, but in 2019 it was quite small, then slowly rose again in 2020"
   ]
  },
  {
   "cell_type": "markdown",
   "metadata": {},
   "source": [
    "#### Monthly Crime"
   ]
  },
  {
   "cell_type": "code",
   "execution_count": 25,
   "metadata": {},
   "outputs": [
    {
     "data": {
      "text/plain": [
       "<AxesSubplot:xlabel='index'>"
      ]
     },
     "execution_count": 25,
     "metadata": {},
     "output_type": "execute_result"
    },
    {
     "data": {
      "image/png": "[encoded data removed]",
      "text/plain": [
       "<Figure size 432x288 with 1 Axes>"
      ]
     },
     "metadata": {
      "needs_background": "light"
     },
     "output_type": "display_data"
    }
   ],
   "source": [
    "temp = df.month.value_counts()\n",
    "temp.reset_index().sort_values(by='index').set_index('index').plot(kind='bar')"
   ]
  },
  {
   "cell_type": "markdown",
   "metadata": {},
   "source": [
    "Crime is generally high towards the end of the year starting from October, November, and December. While other months are relatively the same."
   ]
  },
  {
   "cell_type": "markdown",
   "metadata": {},
   "source": [
    "#### Weekly Crime"
   ]
  },
  {
   "cell_type": "code",
   "execution_count": 26,
   "metadata": {},
   "outputs": [
    {
     "data": {
      "text/plain": [
       "<AxesSubplot:xlabel='index'>"
      ]
     },
     "execution_count": 26,
     "metadata": {},
     "output_type": "execute_result"
    },
    {
     "data": {
      "image/png": "[encoded data removed]",
      "text/plain": [
       "<Figure size 432x288 with 1 Axes>"
      ]
     },
     "metadata": {
      "needs_background": "light"
     },
     "output_type": "display_data"
    }
   ],
   "source": [
    "temp = df.day_of_week.value_counts()\n",
    "temp.reset_index().sort_values(by='index').set_index('index').plot(kind='bar')"
   ]
  },
  {
   "cell_type": "markdown",
   "metadata": {},
   "source": [
    "When viewed by day, all days are relatively the same level of crime"
   ]
  },
  {
   "cell_type": "markdown",
   "metadata": {},
   "source": [
    "#### Hourly Crime"
   ]
  },
  {
   "cell_type": "code",
   "execution_count": 27,
   "metadata": {},
   "outputs": [
    {
     "data": {
      "text/plain": [
       "<AxesSubplot:xlabel='index'>"
      ]
     },
     "execution_count": 27,
     "metadata": {},
     "output_type": "execute_result"
    },
    {
     "data": {
      "image/png": "[encoded data removed]",
      "text/plain": [
       "<Figure size 432x288 with 1 Axes>"
      ]
     },
     "metadata": {
      "needs_background": "light"
     },
     "output_type": "display_data"
    }
   ],
   "source": [
    "temp = df.hour.value_counts()\n",
    "temp.reset_index().sort_values(by='index').set_index('index').plot(kind='bar')"
   ]
  },
  {
   "cell_type": "markdown",
   "metadata": {},
   "source": [
    "It turns out that the hour data has a bimode distribution, where there are two data centers, namely at 00.00 AM and 12-14 PM. This means that crime is prone to occur at that hour."
   ]
  },
  {
   "cell_type": "markdown",
   "metadata": {},
   "source": [
    "#### Top 20 Crime by Street"
   ]
  },
  {
   "cell_type": "code",
   "execution_count": 28,
   "metadata": {},
   "outputs": [
    {
     "data": {
      "text/plain": [
       "<AxesSubplot:>"
      ]
     },
     "execution_count": 28,
     "metadata": {},
     "output_type": "execute_result"
    },
    {
     "data": {
      "image/png": "[encoded data removed]",
      "text/plain": [
       "<Figure size 432x288 with 1 Axes>"
      ]
     },
     "metadata": {
      "needs_background": "light"
     },
     "output_type": "display_data"
    }
   ],
   "source": [
    "temp = df.street.value_counts()\n",
    "temp2 = temp.head(20)\n",
    "temp2.plot(kind='bar')"
   ]
  },
  {
   "cell_type": "markdown",
   "metadata": {},
   "source": [
    "The most crimes occurred in washington st, etc. can be seen on the chart"
   ]
  },
  {
   "cell_type": "markdown",
   "metadata": {},
   "source": [
    "#### Crime by Hour Everyday"
   ]
  },
  {
   "cell_type": "code",
   "execution_count": 29,
   "metadata": {},
   "outputs": [
    {
     "data": {
      "text/plain": [
       "<AxesSubplot:xlabel='hour', ylabel='day_of_week'>"
      ]
     },
     "execution_count": 29,
     "metadata": {},
     "output_type": "execute_result"
    },
    {
     "data": {
      "image/png": "[encoded data removed]",
      "text/plain": [
       "<Figure size 432x288 with 1 Axes>"
      ]
     },
     "metadata": {
      "needs_background": "light"
     },
     "output_type": "display_data"
    }
   ],
   "source": [
    "sns.boxplot(y='day_of_week',x='hour',data=df)"
   ]
  },
  {
   "cell_type": "markdown",
   "metadata": {},
   "source": [
    "When viewed from the time it occurs every day, it is relatively the same, namely the average generally occurs at 12-14 PM"
   ]
  },
  {
   "cell_type": "markdown",
   "metadata": {},
   "source": [
    "#### Correlation Analysis"
   ]
  },
  {
   "cell_type": "code",
   "execution_count": 30,
   "metadata": {},
   "outputs": [],
   "source": [
    "def numerical(df):\n",
    "    num=list(df.columns[df.dtypes=='int64'])+list(df.columns[df.dtypes=='float64'])\n",
    "    return num\n",
    "NUMERIC_FITUR = numerical(df.drop(columns=['lat','long'], axis=1))"
   ]
  },
  {
   "cell_type": "code",
   "execution_count": 31,
   "metadata": {},
   "outputs": [
    {
     "data": {
      "image/png": "[encoded data removed]",
      "text/plain": [
       "<Figure size 720x720 with 2 Axes>"
      ]
     },
     "metadata": {
      "needs_background": "light"
     },
     "output_type": "display_data"
    }
   ],
   "source": [
    "corrmat=df[NUMERIC_FITUR].corr()\n",
    "plt.figure(figsize=(10,10))\n",
    "sns.heatmap(corrmat,vmax=0.8,square=True)\n",
    "plt.show()"
   ]
  },
  {
   "cell_type": "markdown",
   "metadata": {},
   "source": [
    "It can be seen from all the numerical variables that there is no correlation, meaning that there is no multicollinearity"
   ]
  },
  {
   "cell_type": "markdown",
   "metadata": {},
   "source": [
    "The next step is to do data preparation for the step before modeling"
   ]
  },
  {
   "cell_type": "markdown",
   "metadata": {},
   "source": [
    "## CRISP-DM : DATA PREPARATION"
   ]
  },
  {
   "cell_type": "markdown",
   "metadata": {},
   "source": [
    "#### Missing value handling"
   ]
  },
  {
   "cell_type": "markdown",
   "metadata": {},
   "source": [
    "As found before, we can do :\n",
    "    \n",
    "\"shooting\" has a value of 1 & 0, because there is a missing value, it is assumed that the missing is not shooting, meaning that the missing value d is changed to \"0\"\n",
    "\n",
    "ucr_part, offense_code_group, offense_name, street and district missing values will be replaced with \"Other\"\n",
    "\n",
    "while long and lat will be dropped because they are not needed for modeling"
   ]
  },
  {
   "cell_type": "code",
   "execution_count": 32,
   "metadata": {},
   "outputs": [
    {
     "data": {
      "text/html": [
       "<div>\n",
       "<style scoped>\n",
       "    .dataframe tbody tr th:only-of-type {\n",
       "        vertical-align: middle;\n",
       "    }\n",
       "\n",
       "    .dataframe tbody tr th {\n",
       "        vertical-align: top;\n",
       "    }\n",
       "\n",
       "    .dataframe thead th {\n",
       "        text-align: right;\n",
       "    }\n",
       "</style>\n",
       "<table border=\"1\" class=\"dataframe\">\n",
       "  <thead>\n",
       "    <tr style=\"text-align: right;\">\n",
       "      <th></th>\n",
       "      <th>percentage</th>\n",
       "      <th>frequency</th>\n",
       "      <th>var_type</th>\n",
       "    </tr>\n",
       "  </thead>\n",
       "  <tbody>\n",
       "  </tbody>\n",
       "</table>\n",
       "</div>"
      ],
      "text/plain": [
       "Empty DataFrame\n",
       "Columns: [percentage, frequency, var_type]\n",
       "Index: []"
      ]
     },
     "execution_count": 32,
     "metadata": {},
     "output_type": "execute_result"
    }
   ],
   "source": [
    "df['shooting'].fillna(0, inplace=True)\n",
    "df['shooting'] = df['shooting'].replace({'Y' : 1}, regex=True)\n",
    "\n",
    "df['ucr_part'].fillna('Other', inplace=True)\n",
    "df['offense_code_group'].fillna('Other', inplace=True)\n",
    "df['offense_name'].fillna('Other', inplace=True)\n",
    "df['street'].fillna('Other', inplace=True)\n",
    "df['district'].fillna('Other', inplace=True)\n",
    "\n",
    "df.drop(columns=['long','lat'], axis=1, inplace=True)\n",
    "\n",
    "check_missing(df)"
   ]
  },
  {
   "cell_type": "code",
   "execution_count": 33,
   "metadata": {},
   "outputs": [],
   "source": [
    "df.to_csv('df_crime_new.csv', index=False)"
   ]
  },
  {
   "cell_type": "markdown",
   "metadata": {},
   "source": [
    "#### Checking duplicated rows"
   ]
  },
  {
   "cell_type": "markdown",
   "metadata": {},
   "source": [
    "Then it is necessary to check whether there is duplication of data, it is found that there are 161 duplicate rows, and it needs to be dropped"
   ]
  },
  {
   "cell_type": "code",
   "execution_count": 34,
   "metadata": {},
   "outputs": [
    {
     "data": {
      "text/plain": [
       "161"
      ]
     },
     "execution_count": 34,
     "metadata": {},
     "output_type": "execute_result"
    }
   ],
   "source": [
    "df.duplicated().sum()"
   ]
  },
  {
   "cell_type": "code",
   "execution_count": 35,
   "metadata": {},
   "outputs": [],
   "source": [
    "df = df.drop_duplicates()"
   ]
  },
  {
   "cell_type": "markdown",
   "metadata": {},
   "source": [
    "#### Selecting necessary feature"
   ]
  },
  {
   "cell_type": "markdown",
   "metadata": {},
   "source": [
    "The selection of features that will be used for the modeling process is carried out, this feature is adjusted to the questions in the problem to predict the date of the case by being given several criteria."
   ]
  },
  {
   "cell_type": "code",
   "execution_count": 36,
   "metadata": {},
   "outputs": [],
   "source": [
    "selected_columns = ['offense_code_group','year','month','day_of_week','district','shooting','hour']\n",
    "target = ['hour']"
   ]
  },
  {
   "cell_type": "code",
   "execution_count": 37,
   "metadata": {},
   "outputs": [
    {
     "data": {
      "text/html": [
       "<div>\n",
       "<style scoped>\n",
       "    .dataframe tbody tr th:only-of-type {\n",
       "        vertical-align: middle;\n",
       "    }\n",
       "\n",
       "    .dataframe tbody tr th {\n",
       "        vertical-align: top;\n",
       "    }\n",
       "\n",
       "    .dataframe thead th {\n",
       "        text-align: right;\n",
       "    }\n",
       "</style>\n",
       "<table border=\"1\" class=\"dataframe\">\n",
       "  <thead>\n",
       "    <tr style=\"text-align: right;\">\n",
       "      <th></th>\n",
       "      <th>offense_code_group</th>\n",
       "      <th>year</th>\n",
       "      <th>month</th>\n",
       "      <th>day_of_week</th>\n",
       "      <th>district</th>\n",
       "      <th>shooting</th>\n",
       "      <th>hour</th>\n",
       "    </tr>\n",
       "  </thead>\n",
       "  <tbody>\n",
       "    <tr>\n",
       "      <th>0</th>\n",
       "      <td>Investigate Person</td>\n",
       "      <td>2018</td>\n",
       "      <td>4</td>\n",
       "      <td>Monday</td>\n",
       "      <td>B3</td>\n",
       "      <td>0</td>\n",
       "      <td>9</td>\n",
       "    </tr>\n",
       "    <tr>\n",
       "      <th>1</th>\n",
       "      <td>Larceny</td>\n",
       "      <td>2018</td>\n",
       "      <td>3</td>\n",
       "      <td>Tuesday</td>\n",
       "      <td>E18</td>\n",
       "      <td>0</td>\n",
       "      <td>8</td>\n",
       "    </tr>\n",
       "    <tr>\n",
       "      <th>2</th>\n",
       "      <td>Harassment</td>\n",
       "      <td>2018</td>\n",
       "      <td>10</td>\n",
       "      <td>Wednesday</td>\n",
       "      <td>E5</td>\n",
       "      <td>0</td>\n",
       "      <td>12</td>\n",
       "    </tr>\n",
       "    <tr>\n",
       "      <th>3</th>\n",
       "      <td>Harassment</td>\n",
       "      <td>2018</td>\n",
       "      <td>4</td>\n",
       "      <td>Monday</td>\n",
       "      <td>A1</td>\n",
       "      <td>0</td>\n",
       "      <td>8</td>\n",
       "    </tr>\n",
       "    <tr>\n",
       "      <th>4</th>\n",
       "      <td>Property Lost</td>\n",
       "      <td>2018</td>\n",
       "      <td>1</td>\n",
       "      <td>Monday</td>\n",
       "      <td>D4</td>\n",
       "      <td>0</td>\n",
       "      <td>0</td>\n",
       "    </tr>\n",
       "  </tbody>\n",
       "</table>\n",
       "</div>"
      ],
      "text/plain": [
       "   offense_code_group  year  month day_of_week district  shooting  hour\n",
       "0  Investigate Person  2018      4      Monday       B3         0     9\n",
       "1             Larceny  2018      3     Tuesday      E18         0     8\n",
       "2          Harassment  2018     10   Wednesday       E5         0    12\n",
       "3          Harassment  2018      4      Monday       A1         0     8\n",
       "4       Property Lost  2018      1      Monday       D4         0     0"
      ]
     },
     "execution_count": 37,
     "metadata": {},
     "output_type": "execute_result"
    }
   ],
   "source": [
    "df = df[selected_columns]\n",
    "df.head()"
   ]
  },
  {
   "cell_type": "markdown",
   "metadata": {},
   "source": [
    "The following is the data information you want to predict"
   ]
  },
  {
   "cell_type": "markdown",
   "metadata": {},
   "source": [
    "#### Make df contains prediction input for the answer 6.B of machine learning section"
   ]
  },
  {
   "cell_type": "code",
   "execution_count": 38,
   "metadata": {},
   "outputs": [
    {
     "data": {
      "text/html": [
       "<div>\n",
       "<style scoped>\n",
       "    .dataframe tbody tr th:only-of-type {\n",
       "        vertical-align: middle;\n",
       "    }\n",
       "\n",
       "    .dataframe tbody tr th {\n",
       "        vertical-align: top;\n",
       "    }\n",
       "\n",
       "    .dataframe thead th {\n",
       "        text-align: right;\n",
       "    }\n",
       "</style>\n",
       "<table border=\"1\" class=\"dataframe\">\n",
       "  <thead>\n",
       "    <tr style=\"text-align: right;\">\n",
       "      <th></th>\n",
       "      <th>offense_code_group</th>\n",
       "      <th>year</th>\n",
       "      <th>month</th>\n",
       "      <th>day_of_week</th>\n",
       "      <th>district</th>\n",
       "      <th>shooting</th>\n",
       "      <th>hour</th>\n",
       "    </tr>\n",
       "  </thead>\n",
       "  <tbody>\n",
       "    <tr>\n",
       "      <th>0</th>\n",
       "      <td>Vandalism</td>\n",
       "      <td>2021</td>\n",
       "      <td>6</td>\n",
       "      <td>Thursday</td>\n",
       "      <td>D14</td>\n",
       "      <td>0</td>\n",
       "      <td>-99</td>\n",
       "    </tr>\n",
       "  </tbody>\n",
       "</table>\n",
       "</div>"
      ],
      "text/plain": [
       "  offense_code_group  year  month day_of_week district  shooting  hour\n",
       "0          Vandalism  2021      6    Thursday      D14         0   -99"
      ]
     },
     "execution_count": 38,
     "metadata": {},
     "output_type": "execute_result"
    }
   ],
   "source": [
    "df_answer = pd.DataFrame({'offense_code_group':['Vandalism'], \n",
    "                          'year':[2021], \n",
    "                          'month':[6], \n",
    "                          'day_of_week':['Thursday'], \n",
    "                          'district':['D14'], \n",
    "                          'shooting':[0], \n",
    "                          'hour':[-99]})\n",
    "df_answer"
   ]
  },
  {
   "cell_type": "markdown",
   "metadata": {},
   "source": [
    "#### Merge prediction data to master data to enter stage one hot encoder"
   ]
  },
  {
   "cell_type": "code",
   "execution_count": 39,
   "metadata": {},
   "outputs": [
    {
     "data": {
      "text/plain": [
       "(189403, 7)"
      ]
     },
     "execution_count": 39,
     "metadata": {},
     "output_type": "execute_result"
    }
   ],
   "source": [
    "df.shape"
   ]
  },
  {
   "cell_type": "code",
   "execution_count": 40,
   "metadata": {},
   "outputs": [
    {
     "data": {
      "text/plain": [
       "(189404, 7)"
      ]
     },
     "execution_count": 40,
     "metadata": {},
     "output_type": "execute_result"
    }
   ],
   "source": [
    "df_full = df.append(df_answer)\n",
    "df_full.shape"
   ]
  },
  {
   "cell_type": "markdown",
   "metadata": {},
   "source": [
    "#### Merge prediction data to master data to enter stage one hot encoder"
   ]
  },
  {
   "cell_type": "markdown",
   "metadata": {},
   "source": [
    "In our data there is an hour value of 0, this will result in an error when calculating WMAPE as a performance model, so it is changed to the number 24"
   ]
  },
  {
   "cell_type": "code",
   "execution_count": 41,
   "metadata": {},
   "outputs": [],
   "source": [
    "df_full['hour'] = df_full['hour'].replace(0, 24)"
   ]
  },
  {
   "cell_type": "code",
   "execution_count": 42,
   "metadata": {},
   "outputs": [
    {
     "data": {
      "text/html": [
       "<div>\n",
       "<style scoped>\n",
       "    .dataframe tbody tr th:only-of-type {\n",
       "        vertical-align: middle;\n",
       "    }\n",
       "\n",
       "    .dataframe tbody tr th {\n",
       "        vertical-align: top;\n",
       "    }\n",
       "\n",
       "    .dataframe thead th {\n",
       "        text-align: right;\n",
       "    }\n",
       "</style>\n",
       "<table border=\"1\" class=\"dataframe\">\n",
       "  <thead>\n",
       "    <tr style=\"text-align: right;\">\n",
       "      <th></th>\n",
       "      <th>offense_code_group</th>\n",
       "      <th>year</th>\n",
       "      <th>month</th>\n",
       "      <th>day_of_week</th>\n",
       "      <th>district</th>\n",
       "      <th>shooting</th>\n",
       "      <th>hour</th>\n",
       "    </tr>\n",
       "  </thead>\n",
       "  <tbody>\n",
       "  </tbody>\n",
       "</table>\n",
       "</div>"
      ],
      "text/plain": [
       "Empty DataFrame\n",
       "Columns: [offense_code_group, year, month, day_of_week, district, shooting, hour]\n",
       "Index: []"
      ]
     },
     "execution_count": 42,
     "metadata": {},
     "output_type": "execute_result"
    }
   ],
   "source": [
    "df_full[df_full.hour==0]"
   ]
  },
  {
   "cell_type": "code",
   "execution_count": 43,
   "metadata": {},
   "outputs": [],
   "source": [
    "# df_full['offense_code_group'] = np.round(df['hour'].groupby(df['offense_code_group']).transform('mean'))\n",
    "# df_full.head()"
   ]
  },
  {
   "cell_type": "markdown",
   "metadata": {},
   "source": [
    "#### One Hot Encoder"
   ]
  },
  {
   "cell_type": "markdown",
   "metadata": {},
   "source": [
    "This process is to convert categorical data into dummy variables that have values 1 and 0"
   ]
  },
  {
   "cell_type": "code",
   "execution_count": 44,
   "metadata": {},
   "outputs": [],
   "source": [
    "df_dummies=pd.get_dummies(df_full,drop_first=True)"
   ]
  },
  {
   "cell_type": "code",
   "execution_count": 45,
   "metadata": {},
   "outputs": [],
   "source": [
    "df_dummies_train=df_dummies[df_dummies['hour']>=0]\n",
    "df_dummies_test=df_dummies[df_dummies['hour']<0]"
   ]
  },
  {
   "cell_type": "code",
   "execution_count": 46,
   "metadata": {},
   "outputs": [
    {
     "name": "stdout",
     "output_type": "stream",
     "text": [
      "(189403, 83)\n",
      "(1, 83)\n"
     ]
    }
   ],
   "source": [
    "print(df_dummies_train.shape)\n",
    "print(df_dummies_test.shape)"
   ]
  },
  {
   "cell_type": "markdown",
   "metadata": {},
   "source": [
    "#### Define Target (Y) and Feature (X)"
   ]
  },
  {
   "cell_type": "markdown",
   "metadata": {},
   "source": [
    "To simplify the modeling process, define Y and X X"
   ]
  },
  {
   "cell_type": "code",
   "execution_count": 47,
   "metadata": {},
   "outputs": [],
   "source": [
    "y = df_dummies_train['hour']"
   ]
  },
  {
   "cell_type": "code",
   "execution_count": 48,
   "metadata": {},
   "outputs": [
    {
     "name": "stderr",
     "output_type": "stream",
     "text": [
      "C:\\Users\\nandafa\\AppData\\Roaming\\Python\\Python37\\site-packages\\pandas\\core\\frame.py:4174: SettingWithCopyWarning: \n",
      "A value is trying to be set on a copy of a slice from a DataFrame\n",
      "\n",
      "See the caveats in the documentation: https://pandas.pydata.org/pandas-docs/stable/user_guide/indexing.html#returning-a-view-versus-a-copy\n",
      "  errors=errors,\n"
     ]
    }
   ],
   "source": [
    "df_dummies_train.drop('hour',axis=1,inplace=True)\n",
    "df_dummies_test.drop('hour',axis=1,inplace=True)"
   ]
  },
  {
   "cell_type": "code",
   "execution_count": 49,
   "metadata": {},
   "outputs": [
    {
     "data": {
      "text/plain": [
       "(189403, 82)"
      ]
     },
     "execution_count": 49,
     "metadata": {},
     "output_type": "execute_result"
    }
   ],
   "source": [
    "df_dummies_train.shape"
   ]
  },
  {
   "cell_type": "code",
   "execution_count": 50,
   "metadata": {},
   "outputs": [
    {
     "data": {
      "text/plain": [
       "(1, 82)"
      ]
     },
     "execution_count": 50,
     "metadata": {},
     "output_type": "execute_result"
    }
   ],
   "source": [
    "df_dummies_test.shape"
   ]
  },
  {
   "cell_type": "markdown",
   "metadata": {},
   "source": [
    "#### Train test split"
   ]
  },
  {
   "cell_type": "markdown",
   "metadata": {},
   "source": [
    "It is very important to do a split train test so that the model obtained is not overfitting, we will model the training data, then evaluate the testing data which is assumed to be random and unknown."
   ]
  },
  {
   "cell_type": "code",
   "execution_count": 51,
   "metadata": {},
   "outputs": [],
   "source": [
    "from sklearn.model_selection import train_test_split\n",
    "x_train, x_test, y_train, y_test = train_test_split(df_dummies_train,\n",
    "                                                    y,random_state=10)"
   ]
  },
  {
   "cell_type": "markdown",
   "metadata": {},
   "source": [
    "## CRISP-DM : MODELING & EVALUATION"
   ]
  },
  {
   "cell_type": "markdown",
   "metadata": {},
   "source": [
    "1. Since the data is ready, the next step is machine learning modeling\n",
    "\n",
    "2. In this notebook, we will use the Regression technique with the XGBoost algorithm as one of the popular algorithms in predictive analysis\n",
    "\n",
    "3. The performance metric models used are RMSE and WMAPE. RMSE shows the magnitude of the error, while WMAPE can describe the accuracy of the model, because it is already in the form of a percentage. WMAPE is used because the hour data has abnormal fluctuations, so it is not appropriate to use regular MAPE."
   ]
  },
  {
   "cell_type": "markdown",
   "metadata": {},
   "source": [
    "#### Define function for modeling & evaluation"
   ]
  },
  {
   "cell_type": "code",
   "execution_count": 52,
   "metadata": {},
   "outputs": [],
   "source": [
    "from sklearn.model_selection import cross_val_score, KFold\n",
    "from sklearn.metrics import mean_squared_error\n",
    "import matplotlib.pyplot as plt\n",
    "from sklearn.metrics import mean_absolute_percentage_error, mean_squared_error, mean_absolute_error\n",
    "\n",
    "kf5=KFold(n_splits=5)\n",
    "\n",
    "def measure_wmape(actual, forecast):\n",
    "    forecast = np.array(forecast).reshape(-1,1)\n",
    "    actual=np.array(actual).reshape((-1, 1))\n",
    "\n",
    "    # Make an array of mape (same shape as forecast)\n",
    "    se_mape = abs(actual-forecast)/actual\n",
    "\n",
    "    # Calculate sum of actual values\n",
    "    ft_actual_sum = actual.sum(axis=0)\n",
    "\n",
    "    # Multiply the actual values by the mape\n",
    "    se_actual_prod_mape = actual * se_mape * 100\n",
    "\n",
    "    # Take the sum of the product of actual values and mape\n",
    "    # Make sure to sum down the rows (1 for each column)\n",
    "    ft_actual_prod_mape_sum = se_actual_prod_mape.sum(axis=0)\n",
    "\n",
    "    # Calculate the wmape for each forecast and return as a dictionary\n",
    "    ft_wmape_forecast = ft_actual_prod_mape_sum / ft_actual_sum\n",
    "    return np.round(float(str(ft_wmape_forecast)[1:-1]),4)\n",
    "\n",
    "def eval(alg,kf,x_train, x_test):\n",
    "    alg.fit(x_train,y_train)\n",
    "    \n",
    "    mae_test = mean_absolute_error(y_test, np.round(alg.predict(x_test)))\n",
    "    mae_train = mean_absolute_error(y_train, np.round(alg.predict(x_train)))\n",
    "    \n",
    "    rmse_test = np.sqrt(mean_squared_error(y_test, np.round(alg.predict(x_test))))\n",
    "    rmse_train = np.sqrt(mean_squared_error(y_train, np.round(alg.predict(x_train))))\n",
    "    \n",
    "    wmape_test = measure_wmape(y_test, np.round(alg.predict(x_test)))\n",
    "    wmape_train = measure_wmape(y_train, np.round(alg.predict(x_train)))\n",
    "    \n",
    "    cvr_mae=cross_val_score(alg,x_train,y_train,cv=kf,scoring='neg_mean_absolute_error')\n",
    "    cvr_rmse=cross_val_score(alg,x_train,y_train,cv=kf,scoring='neg_root_mean_squared_error')\n",
    "\n",
    "    resi=alg.predict(x_test)-y_test\n",
    "    result = pd.DataFrame({'WMAPE_test':[wmape_test], \n",
    "                           'WMAPE_train':[wmape_train], \n",
    "                           'RMSE_test':[rmse_test] ,\n",
    "                           'RMSE_train':[rmse_train], \n",
    "                           'RMSE_CV_mean':[cvr_rmse.mean()] \n",
    "                          })\n",
    "    return result"
   ]
  },
  {
   "cell_type": "markdown",
   "metadata": {},
   "source": [
    "#### Fit the model"
   ]
  },
  {
   "cell_type": "code",
   "execution_count": 53,
   "metadata": {},
   "outputs": [
    {
     "data": {
      "text/html": [
       "<div>\n",
       "<style scoped>\n",
       "    .dataframe tbody tr th:only-of-type {\n",
       "        vertical-align: middle;\n",
       "    }\n",
       "\n",
       "    .dataframe tbody tr th {\n",
       "        vertical-align: top;\n",
       "    }\n",
       "\n",
       "    .dataframe thead th {\n",
       "        text-align: right;\n",
       "    }\n",
       "</style>\n",
       "<table border=\"1\" class=\"dataframe\">\n",
       "  <thead>\n",
       "    <tr style=\"text-align: right;\">\n",
       "      <th></th>\n",
       "      <th>WMAPE_test</th>\n",
       "      <th>WMAPE_train</th>\n",
       "      <th>RMSE_test</th>\n",
       "      <th>RMSE_train</th>\n",
       "      <th>RMSE_CV_mean</th>\n",
       "    </tr>\n",
       "  </thead>\n",
       "  <tbody>\n",
       "    <tr>\n",
       "      <th>0</th>\n",
       "      <td>34.2525</td>\n",
       "      <td>33.3599</td>\n",
       "      <td>5.989338</td>\n",
       "      <td>5.841675</td>\n",
       "      <td>-5.952907</td>\n",
       "    </tr>\n",
       "  </tbody>\n",
       "</table>\n",
       "</div>"
      ],
      "text/plain": [
       "   WMAPE_test  WMAPE_train  RMSE_test  RMSE_train  RMSE_CV_mean\n",
       "0     34.2525      33.3599   5.989338    5.841675     -5.952907"
      ]
     },
     "execution_count": 53,
     "metadata": {},
     "output_type": "execute_result"
    }
   ],
   "source": [
    "# XBG Regressor\n",
    "rexgb = XGBRegressor(objective='reg:squarederror', n_jobs=-1)\n",
    "eval(rexgb,5,x_train, x_test)"
   ]
  },
  {
   "cell_type": "markdown",
   "metadata": {},
   "source": [
    "WMAPE obtained by 34.25 % on the testing data, it can be said that the accuracy is 65.75%. WMAPE train and test only differ slightly so that it indicates the model is not overfit.\n",
    "\n",
    "Meanwhile, the RMSE is 5.98 or close to 6. This means that the average difference between the predicted event and the actual hour is 6 hours.\n",
    "\n",
    "With an accuracy of 65.75% and an RMSE of 6 hours, the model still doesn't quite satisfy its performance.\n",
    "\n",
    "The model still needs further exploration, such as\n",
    "1. More EDA\n",
    "2. More feature engineering"
   ]
  },
  {
   "cell_type": "markdown",
   "metadata": {},
   "source": [
    "#### Feature Importance"
   ]
  },
  {
   "cell_type": "code",
   "execution_count": 54,
   "metadata": {},
   "outputs": [],
   "source": [
    "import seaborn as sns\n",
    "def feature_importance_df(model,FITUR,k,scale):\n",
    "    model.fit(x_train,y_train)\n",
    "    plt.figure(figsize=(6,6))\n",
    "    sns.set_context(\"paper\", font_scale=scale)\n",
    "    fitur_imp=pd.DataFrame({'fitur':FITUR,'importances':model.feature_importances_})\n",
    "    fitur_imp.sort_values(by='importances',ascending=False,inplace=True)\n",
    "    sns.barplot(x='importances',y='fitur',data=fitur_imp[0:k])\n",
    "    plt.xlabel(\"Feature Importances\")\n",
    "    plt.ylabel(\"Feature\")\n",
    "    plt.show()"
   ]
  },
  {
   "cell_type": "code",
   "execution_count": 55,
   "metadata": {},
   "outputs": [
    {
     "data": {
      "image/png": "[encoded data removed]",
      "text/plain": [
       "<Figure size 432x432 with 1 Axes>"
      ]
     },
     "metadata": {
      "needs_background": "light"
     },
     "output_type": "display_data"
    }
   ],
   "source": [
    "feature_importance_df(rexgb,x_train.columns,30,1)"
   ]
  },
  {
   "cell_type": "markdown",
   "metadata": {},
   "source": [
    "From the model used, the most influential features include offense code and district"
   ]
  },
  {
   "cell_type": "markdown",
   "metadata": {},
   "source": [
    "#### Hyper Parameter Tuning"
   ]
  },
  {
   "cell_type": "markdown",
   "metadata": {},
   "source": [
    "Hyper parameter tuning aims to find the best parameters that minimize errors\n",
    "\n",
    "1.\tn_estimator\n",
    "2.\tmax_depth, min_child_weight\n",
    "3.\tGamma\n",
    "4.\tColsample\n",
    "5.\tRegularization Parameter\n",
    "6.\tLearning rate , n_estimator"
   ]
  },
  {
   "cell_type": "code",
   "execution_count": 56,
   "metadata": {},
   "outputs": [],
   "source": [
    "#load library\n",
    "from sklearn.model_selection import GridSearchCV\n",
    "from sklearn.pipeline import Pipeline\n",
    "from sklearn.feature_selection import SelectFromModel\n",
    "\n",
    "#building function\n",
    "def tunning_result(alg):\n",
    "    print('Best Parameter : \\n', alg.best_params_,'\\n')\n",
    "    print('Best RMSE  : \\n', -(alg.best_score_),'\\n')"
   ]
  },
  {
   "cell_type": "markdown",
   "metadata": {},
   "source": [
    "#### Tunning 1 : n_estimator"
   ]
  },
  {
   "cell_type": "code",
   "execution_count": 57,
   "metadata": {},
   "outputs": [
    {
     "name": "stdout",
     "output_type": "stream",
     "text": [
      "Best Parameter : \n",
      " {'clf__n_estimators': 80} \n",
      "\n",
      "Best RMSE  : \n",
      " 5.942365435848627 \n",
      "\n"
     ]
    }
   ],
   "source": [
    "rexgb_tune = XGBRegressor(learning_rate=0.1,\n",
    "                    #n_estimators=40, \n",
    "                    min_child_weight=3,\n",
    "                    max_depth=5,\n",
    "                    gamma=0.1,\n",
    "                    colsample_bytree=0.6,\n",
    "                    reg_alpha=0.1,\n",
    "                    reg_lambda=0.1,\n",
    "                    random_state=10,\n",
    "                    objective='reg:squarederror')\n",
    "\n",
    "select = SelectFromModel(rexgb_tune,threshold='median')\n",
    "\n",
    "pipe = Pipeline([('select',select),('clf',rexgb_tune)])\n",
    "\n",
    "kf5=KFold(n_splits=5)\n",
    "\n",
    "# parameters\n",
    "param_xgb = {\n",
    "    'clf__n_estimators':[20,40,60,80],\n",
    "}\n",
    "\n",
    "rexgb_grid = GridSearchCV(pipe,\n",
    "                          param_grid=param_xgb,\n",
    "                          cv=kf5,scoring='neg_root_mean_squared_error')\n",
    "rexgb_grid.fit(x_train,y_train)\n",
    "tunning_result(rexgb_grid)"
   ]
  },
  {
   "cell_type": "markdown",
   "metadata": {},
   "source": [
    "#### Tunning 2 : max_depth, min_child_weight"
   ]
  },
  {
   "cell_type": "code",
   "execution_count": 59,
   "metadata": {},
   "outputs": [
    {
     "name": "stdout",
     "output_type": "stream",
     "text": [
      "Best Parameter : \n",
      " {'clf__max_depth': 9, 'clf__min_child_weight': 7} \n",
      "\n",
      "Best RMSE  : \n",
      " -0.00890994095382125 \n",
      "\n"
     ]
    }
   ],
   "source": [
    "rexgb_tune2 = XGBRegressor(learning_rate=0.1,\n",
    "                    n_estimators=rexgb_grid.best_params_['clf__n_estimators'], \n",
    "                    #min_child_weight=3,\n",
    "                    #max_depth=5,\n",
    "                    gamma=0.1,\n",
    "                    colsample_bytree=0.6,\n",
    "                    reg_alpha=0.1,\n",
    "                    reg_lambda=0.1,\n",
    "                    random_state=10,\n",
    "                    objective='reg:squarederror')\n",
    "\n",
    "select = SelectFromModel(rexgb_tune2,threshold='median')\n",
    "\n",
    "pipe2 = Pipeline([('select',select),('clf',rexgb_tune2)])\n",
    "\n",
    "kf5=KFold(n_splits=5)\n",
    "\n",
    "# parameters\n",
    "param_xgb2 = {\n",
    "    'clf__max_depth':range(3,10,2),\n",
    "    'clf__min_child_weight':range(1,8,2)\n",
    "}\n",
    "\n",
    "rexgb_grid2 = GridSearchCV(pipe2,\n",
    "                          param_grid=param_xgb2,\n",
    "                          cv=kf5)\n",
    "\n",
    "rexgb_grid2.fit(x_train,y_train)\n",
    "tunning_result(rexgb_grid2)"
   ]
  },
  {
   "cell_type": "markdown",
   "metadata": {},
   "source": [
    "#### Tunning 3 : Gamma"
   ]
  },
  {
   "cell_type": "code",
   "execution_count": 60,
   "metadata": {},
   "outputs": [
    {
     "name": "stdout",
     "output_type": "stream",
     "text": [
      "Best Parameter : \n",
      " {'clf__gamma': 0.1} \n",
      "\n",
      "Best RMSE  : \n",
      " -0.008315821740805163 \n",
      "\n"
     ]
    }
   ],
   "source": [
    "rexgb_tune3 = XGBRegressor(learning_rate=0.25,\n",
    "                    n_estimators=rexgb_grid.best_params_['clf__n_estimators'], \n",
    "                    min_child_weight=rexgb_grid2.best_params_['clf__min_child_weight'],\n",
    "                    max_depth=rexgb_grid2.best_params_['clf__max_depth'],\n",
    "                    #gamma=0.1,\n",
    "                    subsample=0.9,\n",
    "                    colsample_bytree=0.6,\n",
    "                    reg_alpha=0.1,\n",
    "                    reg_lambda=0.1,\n",
    "                    random_state=10,\n",
    "                    objective='reg:squarederror')\n",
    "\n",
    "select = SelectFromModel(rexgb_tune3,threshold='median')\n",
    "\n",
    "pipe3 = Pipeline([('select',select),('clf',rexgb_tune3)])\n",
    "\n",
    "kf5=KFold(n_splits=5)\n",
    "\n",
    "# parameters\n",
    "param_xgb3 = {\n",
    "    'clf__gamma':[0,0.01,0.1,0.3,0.5,1]}\n",
    "\n",
    "rexgb_grid3 = GridSearchCV(pipe3,\n",
    "                          param_grid=param_xgb3,\n",
    "                          cv=kf5)\n",
    "\n",
    "rexgb_grid3.fit(x_train,y_train)\n",
    "tunning_result(rexgb_grid3)"
   ]
  },
  {
   "cell_type": "markdown",
   "metadata": {},
   "source": [
    "#### Tuning 4 : Colsample"
   ]
  },
  {
   "cell_type": "code",
   "execution_count": 61,
   "metadata": {},
   "outputs": [
    {
     "name": "stdout",
     "output_type": "stream",
     "text": [
      "Best Parameter : \n",
      " {'clf__colsample_bytree': 0.5} \n",
      "\n",
      "Best RMSE  : \n",
      " -0.008553560597586806 \n",
      "\n"
     ]
    }
   ],
   "source": [
    "rexgb_tune4 = XGBRegressor(learning_rate=0.25,\n",
    "                    n_estimators=rexgb_grid.best_params_['clf__n_estimators'], \n",
    "                    min_child_weight=rexgb_grid2.best_params_['clf__min_child_weight'],\n",
    "                    max_depth=rexgb_grid2.best_params_['clf__max_depth'],\n",
    "                    gamma=rexgb_grid3.best_params_['clf__gamma'],\n",
    "                    #colsample_bytree=0.6,\n",
    "                    reg_alpha=0.1,\n",
    "                    reg_lambda=0.1,\n",
    "                    random_state=10,\n",
    "                    objective='reg:squarederror')\n",
    "\n",
    "select = SelectFromModel(rexgb_tune4,threshold='median')\n",
    "\n",
    "pipe4 = Pipeline([('select',select),('clf',rexgb_tune4)])\n",
    "\n",
    "kf5=KFold(n_splits=5)\n",
    "\n",
    "# parameters\n",
    "param_xgb4 = {\n",
    "    'clf__colsample_bytree':[0.5,0.6,0.7,0.8,0.9,1]\n",
    "}\n",
    "\n",
    "rexgb_grid4 = GridSearchCV(pipe4,\n",
    "                          param_grid=param_xgb4,\n",
    "                          cv=kf5)\n",
    "\n",
    "rexgb_grid4.fit(x_train,y_train)\n",
    "tunning_result(rexgb_grid4)"
   ]
  },
  {
   "cell_type": "markdown",
   "metadata": {},
   "source": [
    "#### Tuning 5 : Regularization Parameter"
   ]
  },
  {
   "cell_type": "code",
   "execution_count": 62,
   "metadata": {},
   "outputs": [
    {
     "name": "stdout",
     "output_type": "stream",
     "text": [
      "Best Parameter : \n",
      " {'clf__reg_alpha': 100, 'clf__reg_lambda': 0.001} \n",
      "\n",
      "Best RMSE  : \n",
      " -0.009565189079306147 \n",
      "\n"
     ]
    }
   ],
   "source": [
    "rexgb_tune5 = XGBRegressor(learning_rate=0.25,\n",
    "                    n_estimators=rexgb_grid.best_params_['clf__n_estimators'], \n",
    "                    min_child_weight=rexgb_grid2.best_params_['clf__min_child_weight'],\n",
    "                    max_depth=rexgb_grid2.best_params_['clf__max_depth'],\n",
    "                    gamma=rexgb_grid3.best_params_['clf__gamma'],\n",
    "                    colsample_bytree=rexgb_grid4.best_params_['clf__colsample_bytree'],\n",
    "                    #reg_alpha=0.1,\n",
    "                    #reg_lambda=0.1,\n",
    "                    random_state=10,\n",
    "                    objective='reg:squarederror')\n",
    "\n",
    "select = SelectFromModel(rexgb_tune5,threshold='median')\n",
    "\n",
    "pipe5 = Pipeline([('select',select),('clf',rexgb_tune5)])\n",
    "\n",
    "kf5=KFold(n_splits=5)\n",
    "\n",
    "# parameters\n",
    "param_xgb5 = {\n",
    "    'clf__reg_alpha':[0.001,0.01,0.1,1,10,100],\n",
    "    'clf__reg_lambda':[0.001,0.01,0.1,1,10,100]\n",
    "}\n",
    "\n",
    "rexgb_grid5 = GridSearchCV(pipe5,\n",
    "                          param_grid=param_xgb5,\n",
    "                          cv=kf5)\n",
    "\n",
    "rexgb_grid5.fit(x_train,y_train)\n",
    "tunning_result(rexgb_grid5)"
   ]
  },
  {
   "cell_type": "markdown",
   "metadata": {},
   "source": [
    "#### Tunning 6 : Learning rate , n_estimator"
   ]
  },
  {
   "cell_type": "code",
   "execution_count": 63,
   "metadata": {},
   "outputs": [
    {
     "name": "stdout",
     "output_type": "stream",
     "text": [
      "Best Parameter : \n",
      " {'clf__learning_rate': 0.12} \n",
      "\n",
      "Best RMSE  : \n",
      " -0.010586355502034595 \n",
      "\n"
     ]
    }
   ],
   "source": [
    "rexgb_tune6 = XGBRegressor(#learning_rate=0.25,\n",
    "                    n_estimators=rexgb_grid.best_params_['clf__n_estimators'], \n",
    "                    min_child_weight=rexgb_grid2.best_params_['clf__min_child_weight'],\n",
    "                    max_depth=rexgb_grid2.best_params_['clf__max_depth'],\n",
    "                    gamma=rexgb_grid3.best_params_['clf__gamma'],\n",
    "                    colsample_bytree=rexgb_grid4.best_params_['clf__colsample_bytree'],\n",
    "                    reg_alpha=rexgb_grid5.best_params_['clf__reg_alpha'],\n",
    "                    reg_lambda=rexgb_grid5.best_params_['clf__reg_lambda'],\n",
    "                    random_state=10,\n",
    "                    objective='reg:squarederror')\n",
    "\n",
    "select = SelectFromModel(rexgb_tune6,threshold='median')\n",
    "\n",
    "pipe6 = Pipeline([('select',select),('clf',rexgb_tune6)])\n",
    "\n",
    "kf5=KFold(n_splits=5)\n",
    "\n",
    "# parameters\n",
    "\n",
    "param_xgb6 = {\n",
    "    'clf__learning_rate':[0.25,0.12,0.1,0.05,0.01]}\n",
    "\n",
    "rexgb_grid6 = GridSearchCV(pipe6,\n",
    "                          param_grid=param_xgb6,\n",
    "                          cv=kf5)\n",
    "\n",
    "rexgb_grid6.fit(x_train,y_train)\n",
    "tunning_result(rexgb_grid6)"
   ]
  },
  {
   "cell_type": "markdown",
   "metadata": {},
   "source": [
    "#### Final Model"
   ]
  },
  {
   "cell_type": "code",
   "execution_count": 64,
   "metadata": {},
   "outputs": [],
   "source": [
    "rexgb_final = XGBRegressor(learning_rate=rexgb_grid6.best_params_['clf__learning_rate'],\n",
    "                    n_estimators=rexgb_grid.best_params_['clf__n_estimators'], \n",
    "                    min_child_weight=rexgb_grid2.best_params_['clf__min_child_weight'],\n",
    "                    max_depth=rexgb_grid2.best_params_['clf__max_depth'],\n",
    "                    gamma=rexgb_grid3.best_params_['clf__gamma'],\n",
    "                    colsample_bytree=rexgb_grid4.best_params_['clf__colsample_bytree'],\n",
    "                    reg_alpha=rexgb_grid5.best_params_['clf__reg_alpha'],\n",
    "                    reg_lambda=rexgb_grid5.best_params_['clf__reg_lambda'],\n",
    "                    random_state=10,\n",
    "                    objective='reg:squarederror')"
   ]
  },
  {
   "cell_type": "markdown",
   "metadata": {},
   "source": [
    "Final Model Performance"
   ]
  },
  {
   "cell_type": "code",
   "execution_count": 65,
   "metadata": {},
   "outputs": [
    {
     "data": {
      "text/html": [
       "<div>\n",
       "<style scoped>\n",
       "    .dataframe tbody tr th:only-of-type {\n",
       "        vertical-align: middle;\n",
       "    }\n",
       "\n",
       "    .dataframe tbody tr th {\n",
       "        vertical-align: top;\n",
       "    }\n",
       "\n",
       "    .dataframe thead th {\n",
       "        text-align: right;\n",
       "    }\n",
       "</style>\n",
       "<table border=\"1\" class=\"dataframe\">\n",
       "  <thead>\n",
       "    <tr style=\"text-align: right;\">\n",
       "      <th></th>\n",
       "      <th>WMAPE_test</th>\n",
       "      <th>WMAPE_train</th>\n",
       "      <th>RMSE_test</th>\n",
       "      <th>RMSE_train</th>\n",
       "      <th>RMSE_CV_mean</th>\n",
       "    </tr>\n",
       "  </thead>\n",
       "  <tbody>\n",
       "    <tr>\n",
       "      <th>0</th>\n",
       "      <td>34.2735</td>\n",
       "      <td>33.908</td>\n",
       "      <td>5.979133</td>\n",
       "      <td>5.924565</td>\n",
       "      <td>-5.936759</td>\n",
       "    </tr>\n",
       "  </tbody>\n",
       "</table>\n",
       "</div>"
      ],
      "text/plain": [
       "   WMAPE_test  WMAPE_train  RMSE_test  RMSE_train  RMSE_CV_mean\n",
       "0     34.2735       33.908   5.979133    5.924565     -5.936759"
      ]
     },
     "execution_count": 65,
     "metadata": {},
     "output_type": "execute_result"
    }
   ],
   "source": [
    "eval(rexgb_final,5,x_train, x_test)"
   ]
  },
  {
   "cell_type": "markdown",
   "metadata": {},
   "source": [
    "Our First Model Performance"
   ]
  },
  {
   "cell_type": "code",
   "execution_count": 66,
   "metadata": {},
   "outputs": [
    {
     "data": {
      "text/html": [
       "<div>\n",
       "<style scoped>\n",
       "    .dataframe tbody tr th:only-of-type {\n",
       "        vertical-align: middle;\n",
       "    }\n",
       "\n",
       "    .dataframe tbody tr th {\n",
       "        vertical-align: top;\n",
       "    }\n",
       "\n",
       "    .dataframe thead th {\n",
       "        text-align: right;\n",
       "    }\n",
       "</style>\n",
       "<table border=\"1\" class=\"dataframe\">\n",
       "  <thead>\n",
       "    <tr style=\"text-align: right;\">\n",
       "      <th></th>\n",
       "      <th>WMAPE_test</th>\n",
       "      <th>WMAPE_train</th>\n",
       "      <th>RMSE_test</th>\n",
       "      <th>RMSE_train</th>\n",
       "      <th>RMSE_CV_mean</th>\n",
       "    </tr>\n",
       "  </thead>\n",
       "  <tbody>\n",
       "    <tr>\n",
       "      <th>0</th>\n",
       "      <td>34.2525</td>\n",
       "      <td>33.3599</td>\n",
       "      <td>5.989338</td>\n",
       "      <td>5.841675</td>\n",
       "      <td>-5.952907</td>\n",
       "    </tr>\n",
       "  </tbody>\n",
       "</table>\n",
       "</div>"
      ],
      "text/plain": [
       "   WMAPE_test  WMAPE_train  RMSE_test  RMSE_train  RMSE_CV_mean\n",
       "0     34.2525      33.3599   5.989338    5.841675     -5.952907"
      ]
     },
     "execution_count": 66,
     "metadata": {},
     "output_type": "execute_result"
    }
   ],
   "source": [
    "eval(rexgb,5,x_train, x_test)"
   ]
  },
  {
   "cell_type": "markdown",
   "metadata": {},
   "source": [
    "It can be seen that the performance of the model before and after parameter tuning is not significantly different, meaning that in this case, parameter tuning does not have a significant effect.\n",
    "\n",
    "So, if you want to improve the performance of the model, you must deepen the feature engineering and E.D.A"
   ]
  },
  {
   "cell_type": "markdown",
   "metadata": {},
   "source": [
    "#### Predict question data"
   ]
  },
  {
   "cell_type": "markdown",
   "metadata": {},
   "source": [
    "Question : \n",
    "\n",
    "A detective named Shinichi Kudo is assigned the task of investigating the crime of vandalism in district D14. The crime took place last week on a Thursday in June. Approximately what time was the crime committed?"
   ]
  },
  {
   "cell_type": "code",
   "execution_count": 67,
   "metadata": {},
   "outputs": [
    {
     "data": {
      "text/html": [
       "<div>\n",
       "<style scoped>\n",
       "    .dataframe tbody tr th:only-of-type {\n",
       "        vertical-align: middle;\n",
       "    }\n",
       "\n",
       "    .dataframe tbody tr th {\n",
       "        vertical-align: top;\n",
       "    }\n",
       "\n",
       "    .dataframe thead th {\n",
       "        text-align: right;\n",
       "    }\n",
       "</style>\n",
       "<table border=\"1\" class=\"dataframe\">\n",
       "  <thead>\n",
       "    <tr style=\"text-align: right;\">\n",
       "      <th></th>\n",
       "      <th>year</th>\n",
       "      <th>month</th>\n",
       "      <th>shooting</th>\n",
       "      <th>offense_code_group_Aircraft</th>\n",
       "      <th>offense_code_group_Arson</th>\n",
       "      <th>offense_code_group_Assembly or Gathering Violations</th>\n",
       "      <th>offense_code_group_Auto Theft</th>\n",
       "      <th>offense_code_group_Auto Theft Recovery</th>\n",
       "      <th>offense_code_group_Ballistics</th>\n",
       "      <th>offense_code_group_Bomb Hoax</th>\n",
       "      <th>offense_code_group_Commercial Burglary</th>\n",
       "      <th>offense_code_group_Confidence Games</th>\n",
       "      <th>offense_code_group_Counterfeiting</th>\n",
       "      <th>offense_code_group_Criminal Harassment</th>\n",
       "      <th>offense_code_group_Disorderly Conduct</th>\n",
       "      <th>offense_code_group_Drug Violation</th>\n",
       "      <th>offense_code_group_Embezzlement</th>\n",
       "      <th>offense_code_group_Evading Fare</th>\n",
       "      <th>offense_code_group_Explosives</th>\n",
       "      <th>offense_code_group_Fire Related Reports</th>\n",
       "      <th>offense_code_group_Firearm Discovery</th>\n",
       "      <th>offense_code_group_Firearm Violations</th>\n",
       "      <th>offense_code_group_Fraud</th>\n",
       "      <th>offense_code_group_HOME INVASION</th>\n",
       "      <th>offense_code_group_HUMAN TRAFFICKING</th>\n",
       "      <th>offense_code_group_Harassment</th>\n",
       "      <th>offense_code_group_Harbor Related Incidents</th>\n",
       "      <th>offense_code_group_Homicide</th>\n",
       "      <th>offense_code_group_Investigate Person</th>\n",
       "      <th>offense_code_group_Investigate Property</th>\n",
       "      <th>offense_code_group_Landlord/Tenant Disputes</th>\n",
       "      <th>offense_code_group_Larceny</th>\n",
       "      <th>offense_code_group_Larceny From Motor Vehicle</th>\n",
       "      <th>offense_code_group_License Plate Related Incidents</th>\n",
       "      <th>offense_code_group_License Violation</th>\n",
       "      <th>offense_code_group_Liquor Violation</th>\n",
       "      <th>offense_code_group_Medical Assistance</th>\n",
       "      <th>offense_code_group_Missing Person Located</th>\n",
       "      <th>offense_code_group_Missing Person Reported</th>\n",
       "      <th>offense_code_group_Motor Vehicle Accident Response</th>\n",
       "      <th>offense_code_group_Offenses Against Child / Family</th>\n",
       "      <th>offense_code_group_Operating Under the Influence</th>\n",
       "      <th>offense_code_group_Other</th>\n",
       "      <th>offense_code_group_Other Burglary</th>\n",
       "      <th>offense_code_group_Phone Call Complaints</th>\n",
       "      <th>offense_code_group_Police Service Incidents</th>\n",
       "      <th>offense_code_group_Prisoner Related Incidents</th>\n",
       "      <th>offense_code_group_Property Found</th>\n",
       "      <th>offense_code_group_Property Lost</th>\n",
       "      <th>offense_code_group_Property Related Damage</th>\n",
       "      <th>offense_code_group_Prostitution</th>\n",
       "      <th>offense_code_group_Recovered Stolen Property</th>\n",
       "      <th>offense_code_group_Residential Burglary</th>\n",
       "      <th>offense_code_group_Restraining Order Violations</th>\n",
       "      <th>offense_code_group_Robbery</th>\n",
       "      <th>offense_code_group_Search Warrants</th>\n",
       "      <th>offense_code_group_Service</th>\n",
       "      <th>offense_code_group_Simple Assault</th>\n",
       "      <th>offense_code_group_Towed</th>\n",
       "      <th>offense_code_group_Vandalism</th>\n",
       "      <th>offense_code_group_Verbal Disputes</th>\n",
       "      <th>offense_code_group_Violations</th>\n",
       "      <th>offense_code_group_Warrant Arrests</th>\n",
       "      <th>day_of_week_Monday</th>\n",
       "      <th>day_of_week_Saturday</th>\n",
       "      <th>day_of_week_Sunday</th>\n",
       "      <th>day_of_week_Thursday</th>\n",
       "      <th>day_of_week_Tuesday</th>\n",
       "      <th>day_of_week_Wednesday</th>\n",
       "      <th>district_A15</th>\n",
       "      <th>district_A7</th>\n",
       "      <th>district_B2</th>\n",
       "      <th>district_B3</th>\n",
       "      <th>district_C11</th>\n",
       "      <th>district_C6</th>\n",
       "      <th>district_D14</th>\n",
       "      <th>district_D4</th>\n",
       "      <th>district_E13</th>\n",
       "      <th>district_E18</th>\n",
       "      <th>district_E5</th>\n",
       "      <th>district_External</th>\n",
       "      <th>district_Other</th>\n",
       "    </tr>\n",
       "  </thead>\n",
       "  <tbody>\n",
       "    <tr>\n",
       "      <th>0</th>\n",
       "      <td>2021</td>\n",
       "      <td>6</td>\n",
       "      <td>0</td>\n",
       "      <td>0</td>\n",
       "      <td>0</td>\n",
       "      <td>0</td>\n",
       "      <td>0</td>\n",
       "      <td>0</td>\n",
       "      <td>0</td>\n",
       "      <td>0</td>\n",
       "      <td>0</td>\n",
       "      <td>0</td>\n",
       "      <td>0</td>\n",
       "      <td>0</td>\n",
       "      <td>0</td>\n",
       "      <td>0</td>\n",
       "      <td>0</td>\n",
       "      <td>0</td>\n",
       "      <td>0</td>\n",
       "      <td>0</td>\n",
       "      <td>0</td>\n",
       "      <td>0</td>\n",
       "      <td>0</td>\n",
       "      <td>0</td>\n",
       "      <td>0</td>\n",
       "      <td>0</td>\n",
       "      <td>0</td>\n",
       "      <td>0</td>\n",
       "      <td>0</td>\n",
       "      <td>0</td>\n",
       "      <td>0</td>\n",
       "      <td>0</td>\n",
       "      <td>0</td>\n",
       "      <td>0</td>\n",
       "      <td>0</td>\n",
       "      <td>0</td>\n",
       "      <td>0</td>\n",
       "      <td>0</td>\n",
       "      <td>0</td>\n",
       "      <td>0</td>\n",
       "      <td>0</td>\n",
       "      <td>0</td>\n",
       "      <td>0</td>\n",
       "      <td>0</td>\n",
       "      <td>0</td>\n",
       "      <td>0</td>\n",
       "      <td>0</td>\n",
       "      <td>0</td>\n",
       "      <td>0</td>\n",
       "      <td>0</td>\n",
       "      <td>0</td>\n",
       "      <td>0</td>\n",
       "      <td>0</td>\n",
       "      <td>0</td>\n",
       "      <td>0</td>\n",
       "      <td>0</td>\n",
       "      <td>0</td>\n",
       "      <td>0</td>\n",
       "      <td>0</td>\n",
       "      <td>1</td>\n",
       "      <td>0</td>\n",
       "      <td>0</td>\n",
       "      <td>0</td>\n",
       "      <td>0</td>\n",
       "      <td>0</td>\n",
       "      <td>0</td>\n",
       "      <td>1</td>\n",
       "      <td>0</td>\n",
       "      <td>0</td>\n",
       "      <td>0</td>\n",
       "      <td>0</td>\n",
       "      <td>0</td>\n",
       "      <td>0</td>\n",
       "      <td>0</td>\n",
       "      <td>0</td>\n",
       "      <td>1</td>\n",
       "      <td>0</td>\n",
       "      <td>0</td>\n",
       "      <td>0</td>\n",
       "      <td>0</td>\n",
       "      <td>0</td>\n",
       "      <td>0</td>\n",
       "    </tr>\n",
       "  </tbody>\n",
       "</table>\n",
       "</div>"
      ],
      "text/plain": [
       "   year  month  shooting  offense_code_group_Aircraft  \\\n",
       "0  2021      6         0                            0   \n",
       "\n",
       "   offense_code_group_Arson  \\\n",
       "0                         0   \n",
       "\n",
       "   offense_code_group_Assembly or Gathering Violations  \\\n",
       "0                                                  0     \n",
       "\n",
       "   offense_code_group_Auto Theft  offense_code_group_Auto Theft Recovery  \\\n",
       "0                              0                                       0   \n",
       "\n",
       "   offense_code_group_Ballistics  offense_code_group_Bomb Hoax  \\\n",
       "0                              0                             0   \n",
       "\n",
       "   offense_code_group_Commercial Burglary  \\\n",
       "0                                       0   \n",
       "\n",
       "   offense_code_group_Confidence Games  offense_code_group_Counterfeiting  \\\n",
       "0                                    0                                  0   \n",
       "\n",
       "   offense_code_group_Criminal Harassment  \\\n",
       "0                                       0   \n",
       "\n",
       "   offense_code_group_Disorderly Conduct  offense_code_group_Drug Violation  \\\n",
       "0                                      0                                  0   \n",
       "\n",
       "   offense_code_group_Embezzlement  offense_code_group_Evading Fare  \\\n",
       "0                                0                                0   \n",
       "\n",
       "   offense_code_group_Explosives  offense_code_group_Fire Related Reports  \\\n",
       "0                              0                                        0   \n",
       "\n",
       "   offense_code_group_Firearm Discovery  \\\n",
       "0                                     0   \n",
       "\n",
       "   offense_code_group_Firearm Violations  offense_code_group_Fraud  \\\n",
       "0                                      0                         0   \n",
       "\n",
       "   offense_code_group_HOME INVASION  offense_code_group_HUMAN TRAFFICKING  \\\n",
       "0                                 0                                     0   \n",
       "\n",
       "   offense_code_group_Harassment  offense_code_group_Harbor Related Incidents  \\\n",
       "0                              0                                            0   \n",
       "\n",
       "   offense_code_group_Homicide  offense_code_group_Investigate Person  \\\n",
       "0                            0                                      0   \n",
       "\n",
       "   offense_code_group_Investigate Property  \\\n",
       "0                                        0   \n",
       "\n",
       "   offense_code_group_Landlord/Tenant Disputes  offense_code_group_Larceny  \\\n",
       "0                                            0                           0   \n",
       "\n",
       "   offense_code_group_Larceny From Motor Vehicle  \\\n",
       "0                                              0   \n",
       "\n",
       "   offense_code_group_License Plate Related Incidents  \\\n",
       "0                                                  0    \n",
       "\n",
       "   offense_code_group_License Violation  offense_code_group_Liquor Violation  \\\n",
       "0                                     0                                    0   \n",
       "\n",
       "   offense_code_group_Medical Assistance  \\\n",
       "0                                      0   \n",
       "\n",
       "   offense_code_group_Missing Person Located  \\\n",
       "0                                          0   \n",
       "\n",
       "   offense_code_group_Missing Person Reported  \\\n",
       "0                                           0   \n",
       "\n",
       "   offense_code_group_Motor Vehicle Accident Response  \\\n",
       "0                                                  0    \n",
       "\n",
       "   offense_code_group_Offenses Against Child / Family  \\\n",
       "0                                                  0    \n",
       "\n",
       "   offense_code_group_Operating Under the Influence  offense_code_group_Other  \\\n",
       "0                                                 0                         0   \n",
       "\n",
       "   offense_code_group_Other Burglary  \\\n",
       "0                                  0   \n",
       "\n",
       "   offense_code_group_Phone Call Complaints  \\\n",
       "0                                         0   \n",
       "\n",
       "   offense_code_group_Police Service Incidents  \\\n",
       "0                                            0   \n",
       "\n",
       "   offense_code_group_Prisoner Related Incidents  \\\n",
       "0                                              0   \n",
       "\n",
       "   offense_code_group_Property Found  offense_code_group_Property Lost  \\\n",
       "0                                  0                                 0   \n",
       "\n",
       "   offense_code_group_Property Related Damage  \\\n",
       "0                                           0   \n",
       "\n",
       "   offense_code_group_Prostitution  \\\n",
       "0                                0   \n",
       "\n",
       "   offense_code_group_Recovered Stolen Property  \\\n",
       "0                                             0   \n",
       "\n",
       "   offense_code_group_Residential Burglary  \\\n",
       "0                                        0   \n",
       "\n",
       "   offense_code_group_Restraining Order Violations  \\\n",
       "0                                                0   \n",
       "\n",
       "   offense_code_group_Robbery  offense_code_group_Search Warrants  \\\n",
       "0                           0                                   0   \n",
       "\n",
       "   offense_code_group_Service  offense_code_group_Simple Assault  \\\n",
       "0                           0                                  0   \n",
       "\n",
       "   offense_code_group_Towed  offense_code_group_Vandalism  \\\n",
       "0                         0                             1   \n",
       "\n",
       "   offense_code_group_Verbal Disputes  offense_code_group_Violations  \\\n",
       "0                                   0                              0   \n",
       "\n",
       "   offense_code_group_Warrant Arrests  day_of_week_Monday  \\\n",
       "0                                   0                   0   \n",
       "\n",
       "   day_of_week_Saturday  day_of_week_Sunday  day_of_week_Thursday  \\\n",
       "0                     0                   0                     1   \n",
       "\n",
       "   day_of_week_Tuesday  day_of_week_Wednesday  district_A15  district_A7  \\\n",
       "0                    0                      0             0            0   \n",
       "\n",
       "   district_B2  district_B3  district_C11  district_C6  district_D14  \\\n",
       "0            0            0             0            0             1   \n",
       "\n",
       "   district_D4  district_E13  district_E18  district_E5  district_External  \\\n",
       "0            0             0             0            0                  0   \n",
       "\n",
       "   district_Other  \n",
       "0               0  "
      ]
     },
     "execution_count": 67,
     "metadata": {},
     "output_type": "execute_result"
    }
   ],
   "source": [
    "df_dummies_test"
   ]
  },
  {
   "cell_type": "code",
   "execution_count": 68,
   "metadata": {},
   "outputs": [
    {
     "data": {
      "text/plain": [
       "[15.0]"
      ]
     },
     "execution_count": 68,
     "metadata": {},
     "output_type": "execute_result"
    }
   ],
   "source": [
    "np.round(rexgb_final.predict(df_dummies_test)).tolist()"
   ]
  },
  {
   "cell_type": "markdown",
   "metadata": {},
   "source": [
    "Using the ML model that is owned, based on these criteria, it is obtained that the probability that this case will occur is at 15 PM"
   ]
  },
  {
   "cell_type": "markdown",
   "metadata": {},
   "source": [
    "#### Conclusion and Recommendation"
   ]
  },
  {
   "cell_type": "markdown",
   "metadata": {},
   "source": [
    "Predictive analysis on this notebook still requires several actions to improve accuracy and minimize errors. Among them\n",
    "\n",
    "1. More EDA\n",
    "2. More feature engineering\n",
    "3. Comparing several models\n",
    "\n",
    "However, due to time constraints, this has not been done yet. This can be a suggestion for further analysis"
   ]
  }
 ],
 "metadata": {
  "kernelspec": {
   "display_name": "Python 3",
   "language": "python",
   "name": "python3"
  },
  "language_info": {
   "codemirror_mode": {
    "name": "ipython",
    "version": 3
   },
   "file_extension": ".py",
   "mimetype": "text/x-python",
   "name": "python",
   "nbconvert_exporter": "python",
   "pygments_lexer": "ipython3",
   "version": "3.7.0"
  }
 },
 "nbformat": 4,
 "nbformat_minor": 2
}
