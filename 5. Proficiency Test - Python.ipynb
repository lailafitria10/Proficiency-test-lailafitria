{
 "cells": [
  {
   "cell_type": "markdown",
   "metadata": {},
   "source": [
    "#### Load library"
   ]
  },
  {
   "cell_type": "code",
   "execution_count": 1,
   "metadata": {},
   "outputs": [],
   "source": [
    "# library\n",
    "import pandas as pd\n",
    "import numpy as np\n",
    "import seaborn as sns\n",
    "import matplotlib.pyplot as plt\n",
    "pd.set_option('display.max_columns', 100)"
   ]
  },
  {
   "cell_type": "markdown",
   "metadata": {},
   "source": [
    "#### For these question we will use data that has been cleaned, the detailed steps are on the jupyter notebook machine learning."
   ]
  },
  {
   "cell_type": "code",
   "execution_count": 2,
   "metadata": {},
   "outputs": [
    {
     "name": "stderr",
     "output_type": "stream",
     "text": [
      "C:\\Users\\nandafa\\AppData\\Local\\Continuum\\anaconda3\\lib\\site-packages\\IPython\\core\\interactiveshell.py:2785: DtypeWarning: Columns (0,2,6,12) have mixed types.Specify dtype option on import or set low_memory=False.\n",
      "  interactivity=interactivity, compiler=compiler, result=result)\n"
     ]
    },
    {
     "data": {
      "text/html": [
       "<div>\n",
       "<style scoped>\n",
       "    .dataframe tbody tr th:only-of-type {\n",
       "        vertical-align: middle;\n",
       "    }\n",
       "\n",
       "    .dataframe tbody tr th {\n",
       "        vertical-align: top;\n",
       "    }\n",
       "\n",
       "    .dataframe thead th {\n",
       "        text-align: right;\n",
       "    }\n",
       "</style>\n",
       "<table border=\"1\" class=\"dataframe\">\n",
       "  <thead>\n",
       "    <tr style=\"text-align: right;\">\n",
       "      <th></th>\n",
       "      <th>incident_number</th>\n",
       "      <th>offense_code</th>\n",
       "      <th>offense_code_group</th>\n",
       "      <th>offense_description</th>\n",
       "      <th>district</th>\n",
       "      <th>reporting_area</th>\n",
       "      <th>shooting</th>\n",
       "      <th>occurred_on_date</th>\n",
       "      <th>year</th>\n",
       "      <th>month</th>\n",
       "      <th>day_of_week</th>\n",
       "      <th>hour</th>\n",
       "      <th>ucr_part</th>\n",
       "      <th>street</th>\n",
       "      <th>lat</th>\n",
       "      <th>long</th>\n",
       "      <th>location</th>\n",
       "      <th>offense_name</th>\n",
       "    </tr>\n",
       "  </thead>\n",
       "  <tbody>\n",
       "    <tr>\n",
       "      <th>0</th>\n",
       "      <td>I192077559</td>\n",
       "      <td>3115</td>\n",
       "      <td>Investigate Person</td>\n",
       "      <td>INVESTIGATE PERSON</td>\n",
       "      <td>B3</td>\n",
       "      <td>468</td>\n",
       "      <td>NaN</td>\n",
       "      <td>2018-04-30 09:00:00</td>\n",
       "      <td>2018</td>\n",
       "      <td>4</td>\n",
       "      <td>Monday</td>\n",
       "      <td>9</td>\n",
       "      <td>Part Three</td>\n",
       "      <td>HAZLETON ST</td>\n",
       "      <td>42.279971</td>\n",
       "      <td>-71.095534</td>\n",
       "      <td>(42.27997063, -71.09553354)</td>\n",
       "      <td>INVESTIGATE PERSON</td>\n",
       "    </tr>\n",
       "    <tr>\n",
       "      <th>1</th>\n",
       "      <td>I192077332</td>\n",
       "      <td>619</td>\n",
       "      <td>Larceny</td>\n",
       "      <td>LARCENY ALL OTHERS</td>\n",
       "      <td>E18</td>\n",
       "      <td>496</td>\n",
       "      <td>NaN</td>\n",
       "      <td>2018-03-06 08:00:00</td>\n",
       "      <td>2018</td>\n",
       "      <td>3</td>\n",
       "      <td>Tuesday</td>\n",
       "      <td>8</td>\n",
       "      <td>Part One</td>\n",
       "      <td>HYDE PARK AVE</td>\n",
       "      <td>42.269224</td>\n",
       "      <td>-71.120853</td>\n",
       "      <td>(42.26922388, -71.12085347)</td>\n",
       "      <td>LARCENY ALL OTHERS</td>\n",
       "    </tr>\n",
       "    <tr>\n",
       "      <th>2</th>\n",
       "      <td>I192076660</td>\n",
       "      <td>2629</td>\n",
       "      <td>Harassment</td>\n",
       "      <td>HARASSMENT</td>\n",
       "      <td>E5</td>\n",
       "      <td>662</td>\n",
       "      <td>NaN</td>\n",
       "      <td>2018-10-31 12:00:00</td>\n",
       "      <td>2018</td>\n",
       "      <td>10</td>\n",
       "      <td>Wednesday</td>\n",
       "      <td>12</td>\n",
       "      <td>Part Two</td>\n",
       "      <td>PRIMROSE ST</td>\n",
       "      <td>42.290765</td>\n",
       "      <td>-71.130211</td>\n",
       "      <td>(42.29076521, -71.13021098)</td>\n",
       "      <td>HARASSMENT</td>\n",
       "    </tr>\n",
       "    <tr>\n",
       "      <th>3</th>\n",
       "      <td>I192075386</td>\n",
       "      <td>2629</td>\n",
       "      <td>Harassment</td>\n",
       "      <td>HARASSMENT</td>\n",
       "      <td>A1</td>\n",
       "      <td>96</td>\n",
       "      <td>NaN</td>\n",
       "      <td>2018-04-09 08:43:00</td>\n",
       "      <td>2018</td>\n",
       "      <td>4</td>\n",
       "      <td>Monday</td>\n",
       "      <td>8</td>\n",
       "      <td>Part Two</td>\n",
       "      <td>ATLANTIC AVE</td>\n",
       "      <td>42.355264</td>\n",
       "      <td>-71.050988</td>\n",
       "      <td>(42.35526402, -71.05098788)</td>\n",
       "      <td>HARASSMENT</td>\n",
       "    </tr>\n",
       "    <tr>\n",
       "      <th>4</th>\n",
       "      <td>I192075335</td>\n",
       "      <td>3208</td>\n",
       "      <td>Property Lost</td>\n",
       "      <td>PROPERTY - MISSING</td>\n",
       "      <td>D4</td>\n",
       "      <td>132</td>\n",
       "      <td>NaN</td>\n",
       "      <td>2018-01-01 00:00:00</td>\n",
       "      <td>2018</td>\n",
       "      <td>1</td>\n",
       "      <td>Monday</td>\n",
       "      <td>0</td>\n",
       "      <td>Part Three</td>\n",
       "      <td>COMMONWEALTH AVE</td>\n",
       "      <td>42.353522</td>\n",
       "      <td>-71.072838</td>\n",
       "      <td>(42.35352153, -71.07283786)</td>\n",
       "      <td>PROPERTY - MISSING</td>\n",
       "    </tr>\n",
       "  </tbody>\n",
       "</table>\n",
       "</div>"
      ],
      "text/plain": [
       "  incident_number  offense_code  offense_code_group offense_description  \\\n",
       "0      I192077559          3115  Investigate Person  INVESTIGATE PERSON   \n",
       "1      I192077332           619             Larceny  LARCENY ALL OTHERS   \n",
       "2      I192076660          2629          Harassment          HARASSMENT   \n",
       "3      I192075386          2629          Harassment          HARASSMENT   \n",
       "4      I192075335          3208       Property Lost  PROPERTY - MISSING   \n",
       "\n",
       "  district reporting_area shooting     occurred_on_date  year  month  \\\n",
       "0       B3            468      NaN  2018-04-30 09:00:00  2018      4   \n",
       "1      E18            496      NaN  2018-03-06 08:00:00  2018      3   \n",
       "2       E5            662      NaN  2018-10-31 12:00:00  2018     10   \n",
       "3       A1             96      NaN  2018-04-09 08:43:00  2018      4   \n",
       "4       D4            132      NaN  2018-01-01 00:00:00  2018      1   \n",
       "\n",
       "  day_of_week  hour    ucr_part            street        lat       long  \\\n",
       "0      Monday     9  Part Three       HAZLETON ST  42.279971 -71.095534   \n",
       "1     Tuesday     8    Part One     HYDE PARK AVE  42.269224 -71.120853   \n",
       "2   Wednesday    12    Part Two       PRIMROSE ST  42.290765 -71.130211   \n",
       "3      Monday     8    Part Two      ATLANTIC AVE  42.355264 -71.050988   \n",
       "4      Monday     0  Part Three  COMMONWEALTH AVE  42.353522 -71.072838   \n",
       "\n",
       "                      location        offense_name  \n",
       "0  (42.27997063, -71.09553354)  INVESTIGATE PERSON  \n",
       "1  (42.26922388, -71.12085347)  LARCENY ALL OTHERS  \n",
       "2  (42.29076521, -71.13021098)          HARASSMENT  \n",
       "3  (42.35526402, -71.05098788)          HARASSMENT  \n",
       "4  (42.35352153, -71.07283786)  PROPERTY - MISSING  "
      ]
     },
     "execution_count": 2,
     "metadata": {},
     "output_type": "execute_result"
    }
   ],
   "source": [
    "# load data\n",
    "df = pd.read_csv('df_crime.csv')\n",
    "\n",
    "# lowering the columns name to simplify programm typing\n",
    "df.columns = [x.lower() for x in df.columns]\n",
    "df.head()"
   ]
  },
  {
   "cell_type": "markdown",
   "metadata": {},
   "source": [
    "#### 1. Mention which district (A/B/C/D/E, without number) has the highest crime rate!"
   ]
  },
  {
   "cell_type": "code",
   "execution_count": 3,
   "metadata": {},
   "outputs": [
    {
     "data": {
      "text/plain": [
       "B2          28934\n",
       "C11         24345\n",
       "D4          24312\n",
       "B3          21477\n",
       "A1          20467\n",
       "C6          14391\n",
       "D14         12239\n",
       "E18         10875\n",
       "E13         10714\n",
       "E5           8639\n",
       "A7           7703\n",
       "A15          4111\n",
       "External      320\n",
       "Name: district, dtype: int64"
      ]
     },
     "execution_count": 3,
     "metadata": {},
     "output_type": "execute_result"
    }
   ],
   "source": [
    "df.district.value_counts()"
   ]
  },
  {
   "cell_type": "markdown",
   "metadata": {},
   "source": [
    "*District B2 has a high crime rate of 28934*"
   ]
  },
  {
   "cell_type": "markdown",
   "metadata": {},
   "source": [
    "#### 2. Mention 3 types of crime that happened in 2020 but didn't happen in 2019!"
   ]
  },
  {
   "cell_type": "markdown",
   "metadata": {},
   "source": [
    "First, filter the data crime in 2019 and 2020, then look for the unique offense name slice from the data for the two years."
   ]
  },
  {
   "cell_type": "code",
   "execution_count": 4,
   "metadata": {},
   "outputs": [],
   "source": [
    "# filter data 2019\n",
    "df_19 = df[df.year==2019]\n",
    "offense_19= df_19.offense_name.unique()"
   ]
  },
  {
   "cell_type": "code",
   "execution_count": 5,
   "metadata": {},
   "outputs": [],
   "source": [
    "# filter data 2020\n",
    "df_20 = df[df.year==2020]\n",
    "offense_20 = df_20.offense_name.unique()"
   ]
  },
  {
   "cell_type": "code",
   "execution_count": 6,
   "metadata": {},
   "outputs": [
    {
     "data": {
      "text/plain": [
       "['TRUANCY / RUNAWAY',\n",
       " 'OBSCENE PHONE CALLS',\n",
       " 'EXPLOSIVES - POSSESSION OR USE',\n",
       " 'EXPLOSIVES - TURNED IN OR FOUND']"
      ]
     },
     "execution_count": 6,
     "metadata": {},
     "output_type": "execute_result"
    }
   ],
   "source": [
    "# get the differences\n",
    "list(set(offense_20) - set(offense_19))"
   ]
  },
  {
   "cell_type": "markdown",
   "metadata": {},
   "source": [
    "*Three types of crimes that occurred in 2020 but did not occur in 2019 are* \n",
    "* 'TRUANCY / RUNAWAY'\n",
    "* 'EXPLOSIVES - POSSESSION OR USE'\n",
    "* 'OBSCENE PHONE CALLS'* "
   ]
  },
  {
   "cell_type": "markdown",
   "metadata": {},
   "source": [
    "#### 3. What is the group of crimes that occur the most in the 40-45 week?"
   ]
  },
  {
   "cell_type": "markdown",
   "metadata": {},
   "source": [
    "Change the format after_on_date to datetime format, then extract the week of year, then calculate the count per offense name"
   ]
  },
  {
   "cell_type": "code",
   "execution_count": 7,
   "metadata": {},
   "outputs": [],
   "source": [
    "df['occurred_on_date'] = pd.to_datetime(df['occurred_on_date'])"
   ]
  },
  {
   "cell_type": "code",
   "execution_count": 8,
   "metadata": {},
   "outputs": [
    {
     "name": "stderr",
     "output_type": "stream",
     "text": [
      "C:\\Users\\nandafa\\AppData\\Local\\Continuum\\anaconda3\\lib\\site-packages\\ipykernel_launcher.py:1: FutureWarning: Series.dt.weekofyear and Series.dt.week have been deprecated.  Please use Series.dt.isocalendar().week instead.\n",
      "  \"\"\"Entry point for launching an IPython kernel.\n"
     ]
    }
   ],
   "source": [
    "df['week_of_year'] = df['occurred_on_date'].dt.weekofyear"
   ]
  },
  {
   "cell_type": "code",
   "execution_count": 9,
   "metadata": {},
   "outputs": [
    {
     "data": {
      "text/plain": [
       "INVESTIGATE PERSON                       1791\n",
       "M/V - LEAVING SCENE - PROPERTY DAMAGE    1611\n",
       "SICK/INJURED/MEDICAL - PERSON            1410\n",
       "VANDALISM                                1263\n",
       "INVESTIGATE PROPERTY                     1217\n",
       "                                         ... \n",
       "CONSPIRACY EXCEPT DRUG LAW                  1\n",
       "LARCENY THEFT FROM COIN-OP MACHINE          1\n",
       "HOME INVASION                               1\n",
       "FIREARM/WEAPON - LOST                       1\n",
       "EXPLOSIVES - TURNED IN OR FOUND             1\n",
       "Name: offense_name, Length: 164, dtype: int64"
      ]
     },
     "execution_count": 9,
     "metadata": {},
     "output_type": "execute_result"
    }
   ],
   "source": [
    "df_40_45 = df[(df['week_of_year']>=40)&(df['week_of_year']<=45)]\n",
    "df_40_45.offense_name.value_counts()"
   ]
  },
  {
   "cell_type": "markdown",
   "metadata": {},
   "source": [
    "*The most common criminal group in the 40-45 week is INVESTIGATE PERSON*"
   ]
  },
  {
   "cell_type": "markdown",
   "metadata": {},
   "source": [
    "#### 4. Mention the name of the district (A/B/C/D/E, without number) that has the lowest number of crimes on the weekend!"
   ]
  },
  {
   "cell_type": "markdown",
   "metadata": {},
   "source": [
    "Filter data on Saturday only"
   ]
  },
  {
   "cell_type": "code",
   "execution_count": 10,
   "metadata": {},
   "outputs": [
    {
     "data": {
      "text/plain": [
       "B2          3850\n",
       "D4          3394\n",
       "C11         3340\n",
       "A1          3121\n",
       "B3          3027\n",
       "C6          2047\n",
       "D14         1736\n",
       "E18         1464\n",
       "E13         1420\n",
       "E5          1163\n",
       "A7          1023\n",
       "A15          471\n",
       "External      42\n",
       "Name: district, dtype: int64"
      ]
     },
     "execution_count": 10,
     "metadata": {},
     "output_type": "execute_result"
    }
   ],
   "source": [
    "df_weekend = df[df.day_of_week=='Saturday']\n",
    "df_weekend.district.value_counts()"
   ]
  },
  {
   "cell_type": "markdown",
   "metadata": {},
   "source": [
    "*The district that has the lowest number of crimes on weekends is External*"
   ]
  },
  {
   "cell_type": "markdown",
   "metadata": {},
   "source": [
    "#### 5. Mention the name of the district (A/B/C/D/E, without number) that has the highest number of criminal acts on weekdays!"
   ]
  },
  {
   "cell_type": "markdown",
   "metadata": {},
   "source": [
    "Filter data is not saturday"
   ]
  },
  {
   "cell_type": "code",
   "execution_count": 11,
   "metadata": {},
   "outputs": [
    {
     "data": {
      "text/plain": [
       "B2          25084\n",
       "C11         21005\n",
       "D4          20918\n",
       "B3          18450\n",
       "A1          17346\n",
       "C6          12344\n",
       "D14         10503\n",
       "E18          9411\n",
       "E13          9294\n",
       "E5           7476\n",
       "A7           6680\n",
       "A15          3640\n",
       "External      278\n",
       "Name: district, dtype: int64"
      ]
     },
     "execution_count": 11,
     "metadata": {},
     "output_type": "execute_result"
    }
   ],
   "source": [
    "df_weekday = df[df.day_of_week!='Saturday']\n",
    "df_weekday.district.value_counts()"
   ]
  },
  {
   "cell_type": "markdown",
   "metadata": {},
   "source": [
    "*The district that has the highest number of crimes on weekdays is B2*"
   ]
  }
 ],
 "metadata": {
  "kernelspec": {
   "display_name": "Python 3",
   "language": "python",
   "name": "python3"
  },
  "language_info": {
   "codemirror_mode": {
    "name": "ipython",
    "version": 3
   },
   "file_extension": ".py",
   "mimetype": "text/x-python",
   "name": "python",
   "nbconvert_exporter": "python",
   "pygments_lexer": "ipython3",
   "version": "3.7.0"
  }
 },
 "nbformat": 4,
 "nbformat_minor": 2
}
